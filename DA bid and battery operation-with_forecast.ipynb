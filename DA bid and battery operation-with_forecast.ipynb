{
 "cells": [
  {
   "cell_type": "markdown",
   "metadata": {},
   "source": [
    "### Strategy where the Day-ahead bid commitment is just the forecast But a battery is used in the next day"
   ]
  },
  {
   "cell_type": "code",
   "execution_count": null,
   "metadata": {},
   "outputs": [],
   "source": [
    "\"\"\" Loading packages \"\"\"\n",
    "import pandas as pd\n",
    "import numpy as np\n",
    "from datetime import datetime\n",
    "import sklearn as skl\n",
    "import matplotlib.pyplot as plt\n",
    "from matplotlib.pyplot import figure\n",
    "from datetime import datetime\n",
    "from sklearn.metrics import mean_squared_error\n",
    "from sklearn.preprocessing import MinMaxScaler\n",
    "import seaborn as sns\n",
    "from matplotlib.pyplot import figure\n",
    "import scipy.stats as ss\n",
    "\n",
    "%matplotlib inline\n",
    "sns.set_style('whitegrid')\n",
    "\n",
    "import math\n",
    "import random\n",
    "import pyomo.opt\n",
    "from pyomo.core import Var\n",
    "from pyomo.environ  import *\n",
    "\n",
    "import time\n",
    "\n",
    "\"\"\" Loading Battery Class \"\"\"\n",
    "from battery import Battery"
   ]
  },
  {
   "cell_type": "markdown",
   "metadata": {},
   "source": [
    "## Data Preparation\n",
    "Here:\n",
    "* We read the data\n",
    "* Fix the date to have a **Date format** which is DD/MM/YY HH:MM\n",
    "* Check if there are missing values and fill them up (incase)\n",
    "* Set 'timesteps' or 'Datetime' to be the index"
   ]
  },
  {
   "cell_type": "code",
   "execution_count": null,
   "metadata": {},
   "outputs": [],
   "source": [
    "\"\"\" Read the data \"\"\"\n",
    "\n",
    "df = pd.read_csv(\"load_and_dam_data.csv\")\n",
    "df.columns = ['Datetime', 'load_kW', 'dam_price']\n",
    "df['Datetime'] = [datetime.strptime(x, '%d/%m/%y %H:%M') for x in df['Datetime']]\n",
    "pd.set_option('display.max_rows', None)\n",
    "\n",
    "# filling data using the median function\n",
    "def fillmissingvalues(data):\n",
    "    median = data.median()\n",
    "    data.fillna(median, inplace = True)\n",
    "    \n",
    "    return data\n",
    "df = fillmissingvalues(df)\n",
    "#setting the datetime as an index\n",
    "dataset = df\n",
    "dataset = df.set_index(\"Datetime\")\n",
    "dataset.index = pd.to_datetime(dataset.index)\n",
    "print(dataset.info())"
   ]
  },
  {
   "cell_type": "markdown",
   "metadata": {},
   "source": [
    "### Series of functions incase they're needed to be used:\n",
    "* A function that resamples the data\n",
    "* A function that normalizes the data"
   ]
  },
  {
   "cell_type": "code",
   "execution_count": null,
   "metadata": {},
   "outputs": [],
   "source": [
    "\"\"\" Function to resample the data \"\"\"\n",
    "\n",
    "def reSampleByValue(data, dateValue = 'H'):\n",
    "    if (dateValue == 'D') or (dateValue == 'W') or (dateValue == 'M') or (dateValue == 'Y'):\n",
    "    # Date Related like D: Daily, M: Monthly, Y: Yearly\n",
    "        resampled_data = data.iloc[:,:].resample(dateValue).sum()\n",
    "        \n",
    "    elif (dateValue == 'H') or (dateValue == '15Min'):\n",
    "    # Time Related like hourly and by 15 minutes\n",
    "        if (dateValue == 'H'):\n",
    "            # every hour\n",
    "            by_hour = data.iloc[:,:].resample('H').sum()\n",
    "            resampled_data = by_hour.groupby(by_hour.index).sum()\n",
    "        elif (dateValue == '15Min'):\n",
    "            #every 15 minutes\n",
    "            resampled_data = data.iloc[:,:]\n",
    "        \n",
    "    else:\n",
    "            resampled_data = 'Sorry, the values you can use are: D, W, M, Y, H and 15Min'\n",
    "    \n",
    "    # returns the data the way you chose to represent it (by hour, day, week, etc...)\n",
    "    return resampled_data\n",
    "\n",
    "\n",
    "dataset_day = reSampleByValue(dataset, dateValue = 'D')\n",
    "dataset_hour = reSampleByValue(dataset, dateValue = 'H')\n",
    "\n",
    "\n",
    "\"\"\" normalizing the data \"\"\"\n",
    "\n",
    "def theDataNormalizer(data):\n",
    "    scaler = MinMaxScaler(feature_range = (0, 1))\n",
    "    data_scaled = scaler.fit_transform(data)\n",
    "    \n",
    "    return data_scaled\n",
    "\n",
    "#test\n",
    "data_norm = theDataNormalizer(dataset.iloc[:,:])"
   ]
  },
  {
   "cell_type": "markdown",
   "metadata": {},
   "source": [
    "Which day is going to be plotted and analysed? "
   ]
  },
  {
   "cell_type": "code",
   "execution_count": null,
   "metadata": {},
   "outputs": [],
   "source": [
    "d=21 #day number"
   ]
  },
  {
   "cell_type": "markdown",
   "metadata": {},
   "source": [
    "# Step One: Day ahead bid commitment:\n",
    "* First line creates a series of random error [uniformly, Gaussian, Gamma] distributed (more or less) between -1 and 1 (kW) and it's uncorrelated with time\n",
    "* Second line is the Synthetic Day-ahead forcast where the random error is added to the load of the next day"
   ]
  },
  {
   "cell_type": "code",
   "execution_count": null,
   "metadata": {},
   "outputs": [],
   "source": [
    "#random uniform error between -1 and 1\n",
    "#dataset['randError'] = ss.uniform.rvs(size=2977, loc =-1, scale=2, random_state = 1995)\n",
    "#random normal error between -1 and 1\n",
    "#dataset['randError'] = ss.norm.rvs(size=2977, loc =0, scale=1/3, random_state = 1995)\n",
    "# random gamma error between -1 and 1\n",
    "dataset['randError'] = ss.gamma.rvs(a = 2, size=2977, loc = 0, scale=0.17, random_state= 1995)\n",
    "\n",
    "# Synthetic Day-ahead Forecast \n",
    "dataset['SyntheticLoadForecast'] = dataset['load_kW'] + dataset['randError']"
   ]
  },
  {
   "cell_type": "markdown",
   "metadata": {},
   "source": [
    "### Day Index column\n",
    "\n",
    "Here an extra column is added to differentiate days between eachother.\n",
    "There exist 31 days with the current dataset and each day has 96 slots so each day will have like:\n",
    "\n",
    "Day 1: t=1 dayIndex = 1,\n",
    "       t=2 dayIndex = 1,\n",
    "       ...\n",
    "       t=96 dayIndex = 1\n",
    "...\n",
    "...\n",
    "\n",
    "Day 20: t=1 dayIndex = 20,\n",
    "        t=2 dayIndex = 20,\n",
    "        ...\n",
    "        t=96 dayIndex = 20\n",
    "...\n",
    "..."
   ]
  },
  {
   "cell_type": "code",
   "execution_count": null,
   "metadata": {},
   "outputs": [],
   "source": [
    "dataset_day = reSampleByValue(dataset, dateValue = 'D')\n",
    "dataset['dayIndex'] = None\n",
    "dayIndex = []\n",
    "for i in range(1, len(dataset_day)+1): \n",
    "    for j in range(96):\n",
    "        dayIndex.append(i)\n",
    "        \n",
    "for a in range(len(dataset)):\n",
    "    dataset.iloc[a,4] = dayIndex[a]"
   ]
  },
  {
   "cell_type": "code",
   "execution_count": null,
   "metadata": {},
   "outputs": [],
   "source": [
    "# making np arrays (it is unnecessary but just makes my life easier)\n",
    "p_forecast = dataset.loc[dataset['dayIndex'] == d].SyntheticLoadForecast.values\n",
    "dam_price = dataset.loc[dataset['dayIndex'] == d].dam_price.values\n",
    "\n",
    "# What is less than zero will be set to zero because you don't buy power less than zero (?).\n",
    "#p_commit = []\n",
    "#for i in range(96):\n",
    "#    if dataset.loc[dataset['dayIndex'] == d].SyntheticLoadForecast.values[i]<0:\n",
    "#        p_commit.append(0)\n",
    "#    else:\n",
    "#        p_commit.append(dataset.loc[dataset['dayIndex'] == d].SyntheticLoadForecast.values[i])\n",
    "\n",
    "\n",
    "\n",
    "#deviation = dev_table\n",
    "        \n",
    "# Duration of a market dispatch time interval\n",
    "MarketTime = 1\n",
    "# Imbalance cost\n",
    "imb_cost = 0.02\n",
    "\n",
    "#creating dummy data for battery\n",
    "b_data = {'init_SOC': [0.6], # initial State of Charge\n",
    "          'capacity':  [50.0], # Battery capacity [kWh]\n",
    "          'char_P_Limit': [1.0], # Max charging power [kW]\n",
    "          'dis_P_Limit': [1.0], # Max discharging power [kW]\n",
    "          'char_P_Eff': [0.95], # charging power efficiency\n",
    "          'dis_P_Eff': [0.95], # discharging power efficiency\n",
    "          'batt_min_SOC':[0] # minimum SOC the battery should reach\n",
    "          }\n",
    "\n",
    "batteryData = pd.DataFrame (b_data, columns = ['capacity','init_SOC','char_P_Limit','dis_P_Limit', 'char_P_Eff', 'dis_P_Eff', 'batt_min_SOC'])\n",
    "\n",
    "# use battery class to store information\n",
    "batt = Battery(state_of_charge = batteryData.loc[:,'init_SOC'][0],\n",
    "           capacity = batteryData.loc[:,'capacity'][0],\n",
    "           charging_power_limit = batteryData.loc[:,'char_P_Limit'][0],\n",
    "           discharging_power_limit = batteryData.loc[:,'dis_P_Limit'][0],\n",
    "           charging_efficiency = batteryData.loc[:,'char_P_Eff'][0],\n",
    "           discharging_efficiency = batteryData.loc[:,'dis_P_Eff'][0],\n",
    "           min_SOC = batteryData.loc[:,'batt_min_SOC'][0])\n",
    "\n"
   ]
  },
  {
   "cell_type": "markdown",
   "metadata": {},
   "source": [
    "The committed power is assumed to be the forecasted power."
   ]
  },
  {
   "cell_type": "markdown",
   "metadata": {},
   "source": [
    "# Step Two: Battery Operation:\n",
    "In this stage, it's assumed that the forecast is available and the day has arrived. Here we have the \"commited power\" which is the power that has been generated in the bidding stage. There is the \"actual power\" which is the \"actual load power\" and the \"batter power\". The difference between actual and commited power is named as \"imbalance\".\n",
    "\n",
    "The point here is to optimize the schedule of the battery usage in order to minimize the expectation of the energy cost."
   ]
  },
  {
   "cell_type": "markdown",
   "metadata": {},
   "source": [
    "First the data being used for the optimization of the battery usage.\n",
    "\n",
    "First, the optimization problem will be written using **Pyomo** optimization package:\n",
    "* Creating the Model model\n",
    "* setting the indexes:\n",
    "    * model.t is the set which contains all the timesteps\n",
    "    * model.t_restrict is the set that the same m.t but it eliminates the last index\n",
    "    * model.t_beg is the set that contains values from m.t but incremented by 96 (0, 96, 192,...)\n",
    "\n",
    "Second, The variables with their bounds that the model will use are defined. These are what the model will try to optimize at every timestep\n",
    "\n",
    "Then, what is defined:\n",
    "* Objective function: minimize energy cost\n",
    "* constraints:\n",
    "    * battery_power_constraint: batterypower = powercharge - powerdischarge\n",
    "    * imbalance_equation: imbalance = p_actualLoad + batterypower - p_commited\n",
    "    * b_energy_t_constraint: battery energy at every time t (0 <= battery energy <= battery capacity)\n",
    "    * bool_control_charging and bool_control_discharging: these constraints tell the battery that it can only charge OR discharge during one time period\n",
    "    * soc_evolution: calculates the battery energy at the next timestep t where t_retsrict is being used\n",
    "    * init_state_day_SOC: initial state of charge at start of every day (which is 60%) where t_beg is being used"
   ]
  },
  {
   "cell_type": "code",
   "execution_count": null,
   "metadata": {},
   "outputs": [],
   "source": [
    "p_actualLoad = dataset.loc[dataset['dayIndex'] == d].load_kW.values\n",
    "p_commit = dataset.loc[dataset['dayIndex'] == d].SyntheticLoadForecast.values\n",
    "dam_price = dataset.loc[dataset['dayIndex'] == d].dam_price.values\n",
    "\n",
    "\"\"\"\"\"\"\"\"\"\"\"\"\"\"\"\"\"\"\"\"\"\"\"\"\"\"\"\"\"\"\"\"\"\"\"\"\"\"\"\"\"\"\"\"\n",
    "\"\"\"\"\"\"\"\"\"\"\"\"\"\"\" --- Model --- \"\"\"\"\"\"\"\"\"\"\"\"\"\"\"\"\"\n",
    "\"\"\"\"\"\"\"\"\"\"\"\"\"\"\"\"\"\"\"\"\"\"\"\"\"\"\"\"\"\"\"\"\"\"\"\"\"\"\"\"\"\"\"\"\n",
    "model = ConcreteModel()\n",
    "\n",
    "\"\"\" Sets of periods \"\"\"\n",
    "model.t = RangeSet(0, len(dataset.loc[dataset['dayIndex'] == d])-1)\n",
    "model.t_restrict = RangeSet(0, len(dataset.loc[dataset['dayIndex'] == d])-2)\n",
    "model.t_beg = RangeSet(0, len(dataset.loc[dataset['dayIndex'] == d])-1, 95)\n",
    "\n",
    "\"\"\" Set of Batteries \"\"\"\n",
    "model.b = RangeSet(0,len(batteryData)-1)\n",
    "\n",
    "\n",
    "\"\"\"\"\"\"\"\"\"\"\"\"\"\"\"\"\"\"\"\"\"\"\"\"\"\"\"\"\"\"\"\"\"\"\"\"\"\"\"\"\"\"\"\"\"\"\"\"\n",
    "\"\"\"\"\"\"\"\"\"\"\"\"\"\"\" Variables \"\"\"\"\"\"\"\"\"\"\"\"\"\"\"\"\"\"\"\"\"\n",
    "\"\"\"\"\"\"\"\"\"\"\"\"\"\"\"\"\"\"\"\"\"\"\"\"\"\"\"\"\"\"\"\"\"\"\"\"\"\"\"\"\"\"\"\"\"\"\"\"\n",
    "\n",
    "#Here, the variables with their bounds that the model will use are defined. These are what the model will try to optimize at every timestep\n",
    "\n",
    "# Amount of electricity (dis)charged of battery at time t  (kW)\n",
    "model.powercharge = Var(model.t * model.b, bounds=(0, batt.charging_power_limit), within=NonNegativeReals)\n",
    "model.powerdischarge = Var(model.t * model.b, bounds=(0,batt.discharging_power_limit), within=NonNegativeReals)\n",
    "model.batterypower = Var(model.t * model.b, bounds=(-batt.discharging_power_limit,batt.discharging_power_limit))\n",
    "\n",
    "# Energy stored in battery at time t [kWh]\n",
    "model.b_energy = Var(model.t * model.b, bounds=(0, batt.capacity))\n",
    "model.SOC = Var(model.t * model.b, bounds=(0, 1))\n",
    "\n",
    "# boolean character: either charging or discharging \n",
    "model.bool_char = Var(model.t * model.b, within = Binary)\n",
    "\n",
    "model.imbalance = Var(model.t)\n",
    "\n",
    "model.p = Var(model.t * model.b, bounds=(0,99999))\n",
    "model.q = Var(model.t * model.b, bounds=(0,99999))\n",
    "\n",
    "\"\"\"\"\"\"\"\"\"\"\"\"\"\"\"\"\"\"\"\"\"\"\"\"\"\"\"\"\"\"\"\"\"\"\"\"\"\"\"\"\"\"\"\"\"\"\"\"\n",
    "\"\"\"\"\"\"\"\"\"\"\"\"\"\"\" Objective Function \"\"\"\"\"\"\"\"\"\"\"\"\"\"\"\n",
    "\"\"\"\"\"\"\"\"\"\"\"\"\"\"\"\"\"\"\"\"\"\"\"\"\"\"\"\"\"\"\"\"\"\"\"\"\"\"\"\"\"\"\"\"\"\"\"\"\n",
    "def obj_energy_cost(m):\n",
    "    return sum(sum(((dam_price[t] * p_actualLoad[t]) + (dam_price[t] * (model.batterypower[t,b])) + (imb_cost * model.p[t,b]) + (imb_cost * model.q[t,b]))*MarketTime for t in m.t) for b in m.b)  \n",
    "    \n",
    "model.total_energy_cost = Objective(rule=obj_energy_cost,sense=minimize)\n",
    "\n",
    "\"\"\"\"\"\"\"\"\"\"\"\"\"\"\"\"\"\"\"\"\"\"\"\"\"\"\"\"\"\"\"\"\"\"\"\"\"\"\"\"\"\"\"\"\"\"\"\"\n",
    "\"\"\"\"\"\"\"\"\"\"\"\"\"\"\" Constraints \"\"\"\"\"\"\"\"\"\"\"\"\"\"\"\"\"\"\"\"\"\n",
    "\"\"\"\"\"\"\"\"\"\"\"\"\"\"\"\"\"\"\"\"\"\"\"\"\"\"\"\"\"\"\"\"\"\"\"\"\"\"\"\"\"\"\"\"\"\"\"\"\n",
    "#battery power constraint\n",
    "def battery_power_constraint(m,t,b):\n",
    "    return model.batterypower[t,b] == (model.powercharge[t,b] - model.powerdischarge[t,b])\n",
    "#Absolute value constraint\n",
    "def imbalance_equation(m, t ,b):\n",
    "    return model.imbalance[t] == (p_actualLoad[t] - p_commit[t] + model.batterypower[t,b])\n",
    "# Battery energy at time t\n",
    "def b_energy_t_constraint(m,t,b):\n",
    "    return model.b_energy[t,b] == model.SOC[t,b]*batt.capacity\n",
    "# boolean constraints\n",
    "def bool_control_charging(m,t,b):\n",
    "    return ((model.powercharge[t,b]) <= (batt.charging_power_limit * model.bool_char[t,b]))\n",
    "def bool_control_discharge(m,t,b):\n",
    "    return ((model.powerdischarge[t,b]) <= (batt.discharging_power_limit * (1 - model.bool_char[t,b])))\n",
    "# SOC Evolution Constraint\n",
    "def soc_evolution(m, t_r, b):\n",
    "    return model.b_energy[t_r+1,b] == model.b_energy[t_r,b] + (MarketTime*model.powercharge[t_r,b] * batt.charging_efficiency - (MarketTime*model.powerdischarge[t_r,b] / batt.discharging_efficiency))\n",
    "# SOC initial state value at start of every day\n",
    "def init_state_day_SOC(m,t,b):\n",
    "    return model.b_energy[t, b] == batt.state_of_charge*batt.capacity\n",
    "# minimum battery SOC constraint\n",
    "#def min_bat_soc(m, t, b):\n",
    "#    return model.b_energy[t, b] >= batt.min_SOC * batt.capacity\n",
    "# Absolute function constraint\n",
    "def absolute_constraint(model,t,b):\n",
    "    return model.imbalance[t] + model.p[t,b] - model.q[t,b] == 0\n",
    "\n",
    "model.battery_power = Constraint(model.t,model.b,rule=battery_power_constraint)\n",
    "model.b_energy_constraint = Constraint(model.t,model.b,rule=b_energy_t_constraint)\n",
    "model.imb_eq = Constraint(model.t,model.b,rule=imbalance_equation)\n",
    "model.Batt_boolean_charge = Constraint(model.t, model.b, rule=bool_control_charging)\n",
    "model.Batt_boolean_discharge = Constraint(model.t, model.b, rule=bool_control_discharge)\n",
    "model.soc_evol = Constraint(model.t_restrict, model.b, rule=soc_evolution)\n",
    "model.init_state_day_SOC = Constraint(model.t_beg, model.b, rule=init_state_day_SOC)\n",
    "#model.min_SOC_const = Constraint(model.t, model.b, rule=min_bat_soc)\n",
    "model.abs_eq = Constraint(model.t, model.b, rule = absolute_constraint)"
   ]
  },
  {
   "cell_type": "code",
   "execution_count": null,
   "metadata": {
    "scrolled": true
   },
   "outputs": [],
   "source": [
    "\"\"\"\"\"\"\"\"\"\"\"\"\"\"\"\"\"\"\"\"\"\"\"\"\"\"\"\"\"\"\"\"\"\"\"\"\"\"\"\"\"\"\"\"\"\"\"\"\n",
    "\"\"\"\"\"\"\"\"\"\"\"\"\"\"\" Solver to be used \"\"\"\"\"\"\"\"\"\"\"\"\"\"\"\n",
    "\"\"\"\"\"\"\"\"\"\"\"\"\"\"\"\"\"\"\"\"\"\"\"\"\"\"\"\"\"\"\"\"\"\"\"\"\"\"\"\"\"\"\"\"\"\"\"\"\n",
    "# set the path to the solver\n",
    "#opt = SolverFactory(\"couenne\", executable=\"/Users/alaakamalcheaib/Desktop/UPC STUFF/ampl.macos64/couenne\")\n",
    "opt = SolverFactory(\"cbc\", executable=\"/Users/alaakamalcheaib/Desktop/UPC STUFF/ampl.macos64/cbc\")\n",
    "\n",
    "\"\"\"\"\"\"\"\"\"\"\"\"\"\"\"\"\"\"\"\"\"\"\"\"\"\"\"\"\"\"\"\"\"\"\"\"\"\"\"\"\"\"\n",
    "\"\"\" Solving the optimization problem: \"\"\"\n",
    "\"\"\"\"\"\"\"\"\"\"\"\"\"\"\"\"\"\"\"\"\"\"\"\"\"\"\"\"\"\"\"\"\"\"\"\"\"\"\"\"\"\"\n",
    "\n",
    "\"\"\"\"\"\"\"\"\"\"\"\"\"\"\" Start Timer \"\"\"\"\"\"\"\"\"\"\"\"\"\"\"\n",
    "total_start_time = time.time()\n",
    "\"\"\"\"\"\"\"\"\"\"\"\"\"\"\"\"\"\"\"\"\"\"\"\"\"\"\"\"\"\"\"\"\"\"\"\"\"\"\"\"\"\"\n",
    "\n",
    "results = opt.solve(model, tee=False)\n",
    "\n",
    "\"\"\"\"\"\"\"\"\"\"\"\"\"\"\" End Timer \"\"\"\"\"\"\"\"\"\"\"\"\"\"\"\n",
    "elapsed = time.time() - total_start_time\n",
    "print ('Time elapsed', elapsed)\n",
    "\"\"\"\"\"\"\"\"\"\"\"\"\"\"\"\"\"\"\"\"\"\"\"\"\"\"\"\"\"\"\"\"\"\"\"\"\"\"\"\"\"\""
   ]
  },
  {
   "cell_type": "code",
   "execution_count": null,
   "metadata": {},
   "outputs": [],
   "source": [
    "ind_RT = list(model.t)\n",
    "powerc_RT = list(model.powercharge.get_values().values())\n",
    "powerd_RT = list(model.powerdischarge.get_values().values())\n",
    "bpow_RT = list(model.batterypower.get_values().values())\n",
    "bsoc_RT = list(model.SOC.get_values().values())\n",
    "imb_RT = list(model.imbalance.get_values().values())\n",
    "bEn_RT = list(model.b_energy.get_values().values())\n",
    "\n",
    "res_pyomo_RT = pd.DataFrame(\n",
    "    {'timesteps': ind_RT,\n",
    "     'power_charge': powerc_RT,\n",
    "     'power_discharge': powerd_RT,\n",
    "     'battery_power': bpow_RT,\n",
    "     'battery_SOC': bsoc_RT,\n",
    "     'imbalance': imb_RT,\n",
    "     'battery_energy': bEn_RT\n",
    "    })\n",
    "res_pyomo_RT = res_pyomo_RT.set_index(\"timesteps\")"
   ]
  },
  {
   "cell_type": "code",
   "execution_count": null,
   "metadata": {},
   "outputs": [],
   "source": [
    "#normalized\n",
    "dfres_RT = pd.DataFrame(\n",
    "    {'damnorm': dataset.loc[dataset['dayIndex'] == d].dam_price,\n",
    "     'comnorm': p_commit,\n",
    "     'loadnorm': dataset.loc[dataset['dayIndex'] == d].load_kW,\n",
    "     'batSOCnorm': bsoc_RT\n",
    "    })\n",
    "dfnorm_RT = theDataNormalizer(dfres_RT)"
   ]
  },
  {
   "cell_type": "markdown",
   "metadata": {},
   "source": [
    "Committed vs Actual load power vs battery SOC at every time t for a single day"
   ]
  },
  {
   "cell_type": "code",
   "execution_count": null,
   "metadata": {},
   "outputs": [],
   "source": [
    "fig, ax1 = plt.subplots(figsize = (16,8))\n",
    "ax2 = ax1.twinx()\n",
    "\n",
    "lns1 = ax1.plot(dfres_RT.index, dfres_RT.iloc[:,1], \"-\", color= '#377eb8',\n",
    "                linewidth=3, label = 'committed power')\n",
    "lns2 = ax1.plot(dfres_RT.index, dfres_RT.iloc[:,2], \"-s\", color= '#e41a1c',\n",
    "                linewidth=3, label = 'actual load power')\n",
    "lns3 = ax2.plot(dfres_RT.index, dfres_RT.iloc[:,3], color= '#a65628',\n",
    "                linewidth=3, linestyle= (0, (5, 3)), label = 'battery SOC')\n",
    "\n",
    "\n",
    "# added these three lines\n",
    "lns = lns1+lns2+lns3\n",
    "labs = [l.get_label() for l in lns]\n",
    "ax1.legend(lns, labs, loc = 9, prop={'size': 18})\n",
    "\n",
    "ax1.set_xlabel('timesteps (96)', fontsize=20)\n",
    "ax1.set_ylabel('power (kW)', fontsize=20)\n",
    "ax2.set_ylabel('Battery SOC', fontsize=20)\n",
    "\n",
    "#defining display layout \n",
    "plt.tight_layout()\n",
    "# Save figure\n",
    "#fig.savefig('Results/StrategyWithForecast/Battery-operation/Day{0}/Norm_committed_realLoad_BatterySOC_Day{0}.png'.format(d), dpi=300, bbox_inches='tight')\n",
    "#fig.savefig('Results/StrategyWithForecast/Battery-operation/Day{0}/Uniform_committed_realLoad_BatterySOC_Day{0}.png'.format(d), dpi=300, bbox_inches='tight')\n",
    "#fig.savefig('Results/StrategyWithForecast/Battery-operation/Day{0}/gamma_forecast__committed_realLoad_BatterySOC_Day{0}.png'.format(d), dpi=300, bbox_inches='tight')\n",
    "\n",
    "\n",
    "\n",
    "\n",
    "# show graph\n",
    "plt.show()"
   ]
  },
  {
   "cell_type": "markdown",
   "metadata": {},
   "source": []
  },
  {
   "cell_type": "code",
   "execution_count": null,
   "metadata": {},
   "outputs": [],
   "source": [
    "fig, ax1 = plt.subplots(figsize = (16,8))\n",
    "ax1.plot(dataset.loc[dataset['dayIndex'] == d].index, dfres_RT.iloc[:,2] - dfres_RT.iloc[:,3], \"-H\", color='black', linewidth=3, label = 'residuals') # residuals\n",
    "\n",
    "ax1.legend(loc = 0, prop={'size': 18})\n",
    "\n",
    "ax1.set_xlabel('timesteps (96)', fontsize = 20)\n",
    "ax1.set_ylabel('residuals', fontsize = 20)\n",
    "\n",
    "#defining display layout \n",
    "plt.tight_layout()\n",
    "\n",
    "# Save figure\n",
    "#fig.savefig('Results/StrategyWithForecast/Battery-operation/Day{0}/Norm_RTresiduals_Day{0}.png'.format(d), dpi=300, bbox_inches='tight')\n",
    "#fig.savefig('Results/StrategyWithForecast/Battery-operation/Day{0}/Uniform_RTresiduals_Day{0}.png'.format(d), dpi=300, bbox_inches='tight')\n",
    "fig.savefig('Results/StrategyWithForecast/Battery-operation/Day{0}/gamma_RTresiduals_Day{0}.png'.format(d), dpi=300, bbox_inches='tight')\n",
    "\n",
    "\n",
    "# show graph\n",
    "plt.show()"
   ]
  },
  {
   "cell_type": "markdown",
   "metadata": {},
   "source": []
  },
  {
   "cell_type": "code",
   "execution_count": null,
   "metadata": {},
   "outputs": [],
   "source": [
    "fig, ax1 = plt.subplots(figsize = (16,8))\n",
    "kwargs = dict(hist_kws={'alpha':.6}, kde_kws={'linewidth':2})\n",
    "sns.distplot(dfres_RT.iloc[:,3] - dfres_RT.iloc[:,2], color=\"dodgerblue\", label=\"Residuals Distribution\",  **kwargs)\n",
    "plt.legend(loc = 0, prop={'size': 18});\n",
    "\n",
    "# Save figure\n",
    "#fig.savefig('Results/StrategyWithForecast/Battery-operation/Day{0}/Norm_dist_RTresiduals_Day{0}.png'.format(d), dpi=300, bbox_inches='tight')\n",
    "#fig.savefig('Results/StrategyWithForecast/Battery-operation/Day{0}/Uniform_dist_RTresiduals_Day{0}.png'.format(d), dpi=300, bbox_inches='tight')\n",
    "#fig.savefig('Results/StrategyWithForecast/Battery-operation/Day{0}/gamma_dist_RTresiduals_Day{0}.png'.format(d), dpi=300, bbox_inches='tight')"
   ]
  },
  {
   "cell_type": "code",
   "execution_count": null,
   "metadata": {
    "scrolled": false
   },
   "outputs": [],
   "source": [
    "pd.set_option('display.max_rows', False)\n",
    "res_pyomo_RT"
   ]
  },
  {
   "cell_type": "code",
   "execution_count": null,
   "metadata": {},
   "outputs": [],
   "source": [
    "imbalance_cost = res_pyomo_RT.iloc[:,4] * imb_cost\n",
    "\n",
    "dam_price = dataset.loc[dataset['dayIndex'] == d].dam_price\n",
    "bidding_cost = []\n",
    "\n",
    "for t in range(len(dataset.loc[dataset['dayIndex'] == d])):\n",
    "    result = p_commit[t] * dam_price.iloc[t]\n",
    "    bidding_cost.append(result)"
   ]
  },
  {
   "cell_type": "code",
   "execution_count": null,
   "metadata": {},
   "outputs": [],
   "source": [
    "fig, ax1 = plt.subplots(figsize = (16,8))\n",
    "ax2 = ax1.twinx()\n",
    "\n",
    "lns1 = ax1.plot(dfres_RT.index, bidding_cost, \"-\", color= '#984ea3',linewidth=3, label = \"bidding cost\")\n",
    "lns2 = ax2.plot(dfres_RT.index, imbalance_cost, \"-s\", color= '#f781bf',linewidth=3, label = \"imbalance cost\")\n",
    "\n",
    "# added these three lines\n",
    "lns = lns1+lns2\n",
    "labs = [l.get_label() for l in lns]\n",
    "ax1.legend(lns, labs, loc = 3, prop={'size': 20})\n",
    "\n",
    "ax1.set_xlabel('timesteps (96)', fontsize=20)\n",
    "ax1.set_ylabel('bidding costs', fontsize=20)\n",
    "ax2.set_ylabel('Imbalances', fontsize=20)\n",
    "\n",
    "#defining display layout \n",
    "plt.tight_layout()\n",
    "\n",
    "# Save figure\n",
    "#fig.savefig('Results/StrategyWithForecast/Battery-operation/Day{0}/Uniform_bidding_vs_imbalance_cost_Day{0}.png'.format(d), dpi=300, bbox_inches='tight')\n",
    "#fig.savefig('Results/StrategyWithForecast/Battery-operation/Day{0}/Norm_bidding_vs_imbalance_cost_Day{0}.png'.format(d), dpi=300, bbox_inches='tight')\n",
    "#fig.savefig('Results/StrategyWithForecast/Battery-operation/Day{0}/gamma_bidding_vs_imbalance_cost_Day{0}.png'.format(d), dpi=300, bbox_inches='tight')\n",
    "\n",
    "\n",
    "# show graph\n",
    "plt.show()"
   ]
  },
  {
   "cell_type": "markdown",
   "metadata": {
    "scrolled": false
   },
   "source": [
    "bidding vs imbalance cost at every time t for a single day"
   ]
  },
  {
   "cell_type": "code",
   "execution_count": null,
   "metadata": {},
   "outputs": [],
   "source": [
    "# forecast with battery\n",
    "total_bidding_cost = 0\n",
    "total_imbalance_cost = 0\n",
    "total_overall_cost = 0\n",
    "\n",
    "for t in range(len(dataset.loc[dataset['dayIndex'] == d])):\n",
    "    total_bidding_cost += bidding_cost[t]\n",
    "    total_imbalance_cost += abs(imbalance_cost[t])\n",
    "    total_overall_cost += dam_price.iloc[t] * (p_commit[t] + res_pyomo_RT.iloc[t,4]) + abs(imbalance_cost[t])\n",
    "\n",
    "\n",
    "    \n",
    "total_overall_cost,total_bidding_cost,total_imbalance_cost"
   ]
  },
  {
   "cell_type": "code",
   "execution_count": null,
   "metadata": {},
   "outputs": [],
   "source": []
  }
 ],
 "metadata": {
  "kernelspec": {
   "display_name": "Python 3",
   "language": "python",
   "name": "python3"
  },
  "language_info": {
   "codemirror_mode": {
    "name": "ipython",
    "version": 3
   },
   "file_extension": ".py",
   "mimetype": "text/x-python",
   "name": "python",
   "nbconvert_exporter": "python",
   "pygments_lexer": "ipython3",
   "version": "3.7.6"
  }
 },
 "nbformat": 4,
 "nbformat_minor": 4
}
