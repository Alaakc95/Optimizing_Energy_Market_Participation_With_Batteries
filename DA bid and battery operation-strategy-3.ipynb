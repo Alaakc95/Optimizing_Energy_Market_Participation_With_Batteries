{
 "cells": [
  {
   "cell_type": "markdown",
   "metadata": {},
   "source": [
    "## Strategy Three"
   ]
  },
  {
   "cell_type": "code",
   "execution_count": null,
   "metadata": {},
   "outputs": [],
   "source": [
    "\"\"\" Loading packages \"\"\"\n",
    "import pandas as pd\n",
    "import numpy as np\n",
    "from datetime import datetime\n",
    "import sklearn as skl\n",
    "import matplotlib.pyplot as plt\n",
    "from matplotlib.pyplot import figure\n",
    "from datetime import datetime\n",
    "from sklearn.metrics import mean_squared_error\n",
    "from sklearn.preprocessing import MinMaxScaler\n",
    "import seaborn as sns\n",
    "from matplotlib.pyplot import figure\n",
    "import scipy.stats as ss\n",
    "\n",
    "%matplotlib inline\n",
    "sns.set_style('whitegrid')\n",
    "\n",
    "import math\n",
    "import random\n",
    "import pyomo.opt\n",
    "from pyomo.core import Var\n",
    "from pyomo.environ  import *\n",
    "\n",
    "import time\n",
    "\n",
    "\"\"\" Loading Battery Class \"\"\"\n",
    "from battery import Battery"
   ]
  },
  {
   "cell_type": "markdown",
   "metadata": {},
   "source": [
    "## Data Preparation\n",
    "Here:\n",
    "* We read the data\n",
    "* Fix the date to have a **Date format** which is DD/MM/YY HH:MM\n",
    "* Check if there are missing values and fill them up (incase)\n",
    "* Set 'timesteps' or 'Datetime' to be the index"
   ]
  },
  {
   "cell_type": "code",
   "execution_count": null,
   "metadata": {
    "scrolled": true
   },
   "outputs": [],
   "source": [
    "\"\"\" Read the data \"\"\"\n",
    "\n",
    "df = pd.read_csv(\"load_and_dam_data.csv\")\n",
    "df.columns = ['Datetime', 'load_kW', 'dam_price']\n",
    "df['Datetime'] = [datetime.strptime(x, '%d/%m/%y %H:%M') for x in df['Datetime']]\n",
    "pd.set_option('display.max_rows', None)\n",
    "\n",
    "# filling data using the median function\n",
    "def fillmissingvalues(data):\n",
    "    median = data.median()\n",
    "    data.fillna(median, inplace = True)\n",
    "    \n",
    "    return data \n",
    "df = fillmissingvalues(df)\n",
    "#setting the datetime as an index\n",
    "dataset = df\n",
    "dataset = df.set_index(\"Datetime\")\n",
    "dataset.index = pd.to_datetime(dataset.index)\n",
    "print(dataset.info())"
   ]
  },
  {
   "cell_type": "markdown",
   "metadata": {},
   "source": [
    "### Series of functions incase they're needed to be used:\n",
    "* A function that normalizes the data to the range you want"
   ]
  },
  {
   "cell_type": "code",
   "execution_count": null,
   "metadata": {},
   "outputs": [],
   "source": [
    "\"\"\" normalizing the data \"\"\"\n",
    "def theDataNormalizer(data):\n",
    "    scaler = MinMaxScaler(feature_range = (0, 1))\n",
    "    data_scaled = scaler.fit_transform(data)\n",
    "    \n",
    "    return data_scaled\n",
    "#test\n",
    "data_norm = theDataNormalizer(dataset.iloc[:,:])"
   ]
  },
  {
   "cell_type": "markdown",
   "metadata": {},
   "source": [
    "Which day is going to be plotted and analysed? "
   ]
  },
  {
   "cell_type": "code",
   "execution_count": null,
   "metadata": {},
   "outputs": [],
   "source": [
    "d=21 #day number"
   ]
  },
  {
   "cell_type": "markdown",
   "metadata": {},
   "source": [
    "# Step One: Day ahead bid commitment:"
   ]
  },
  {
   "cell_type": "code",
   "execution_count": null,
   "metadata": {},
   "outputs": [],
   "source": [
    "''' Hourly '''\n",
    "dataset_hourly = pd.DataFrame()\n",
    "\n",
    "# load (kW) resampling from 15 min interval to 1 hour interval\n",
    "dataset_hourly['load_kW'] = dataset.iloc[:,0].resample('H').sum()\n",
    "\n",
    "#average DAM prices resampling from 15 min interval to 1 hour interval\n",
    "dataset_hourly['dam_price'] = dataset.iloc[:,1].resample('H').mean()\n",
    "\n",
    "#random uniform error between -1 and 1\n",
    "dataset_hourly['randError'] = ss.uniform.rvs(size=745, loc =-1, scale=2, random_state = 1995)\n",
    "#random Normal error between -1 and 1\n",
    "#dataset_hourly['randError'] = ss.norm.rvs(size=745, loc =0, scale=1/3, random_state = 1995)\n",
    "# random gamma distribution error between -1 and 1\n",
    "#dataset_hourly['randError'] = ss.gamma.rvs(a = 2, size=745, loc = 0, scale=0.17, random_state= 1995)\n",
    "\n",
    "# Synthetic Day-ahead Forecast \n",
    "dataset_hourly['SyntheticLoadForecast'] = dataset_hourly['load_kW'] + dataset_hourly['randError']\n",
    "\n",
    "''' By 15 Minutes '''\n",
    "\n",
    "#random normal error between -1 and 1\n",
    "#dataset['randError'] = ss.norm.rvs(size=2977, loc =0, scale=1/3, random_state = 1995)\n",
    "#random uniform error between -1 and 1\n",
    "#dataset['randError'] = ss.uniform.rvs(size=2977, loc =-1, scale=2, random_state = 1995)\n",
    "# random gamma distribution error between -1 and 1\n",
    "dataset['randError'] = ss.gamma.rvs(a = 2, size=2977, loc = 0, scale=0.17, random_state= 1995)\n",
    "\n",
    "# Synthetic Day-ahead Forecast \n",
    "dataset['SyntheticLoadForecast'] = dataset['load_kW'] + dataset['randError']\n"
   ]
  },
  {
   "cell_type": "code",
   "execution_count": null,
   "metadata": {},
   "outputs": [],
   "source": [
    "# creating 10 scenarios for the forecasted deviations\n",
    "num_hour_timesteps = 24\n",
    "num_timesteps = 96\n",
    "num_scenarios = 50\n",
    "devs = []\n",
    "devs_15 = []\n",
    "for i in range(num_scenarios):\n",
    "        # Uniform\n",
    "        #devs.append(ss.uniform.rvs(size=num_hour_timesteps, loc =-1, scale=2))\n",
    "        #devs_15.append(ss.uniform.rvs(size=num_timesteps, loc =-1, scale=2))\n",
    "        # Normal\n",
    "        #devs.append(ss.norm.rvs(size=num_hour_timesteps, loc =0, scale=1/3))\n",
    "        #devs_15.append(ss.norm.rvs(size=num_timesteps, loc =0, scale=1/3))\n",
    "        # Gamma\n",
    "        devs.append(ss.gamma.rvs(a = 2, size=num_hour_timesteps, loc = 0, scale=0.17)) # gamma \n",
    "        devs_15.append(ss.gamma.rvs(a = 2, size=num_timesteps, loc = 0, scale=0.17))\n",
    "\n",
    "\n",
    "dev_table = pd.DataFrame(devs).transpose()\n",
    "dev_15_table = pd.DataFrame(devs_15).transpose()"
   ]
  },
  {
   "cell_type": "markdown",
   "metadata": {},
   "source": [
    "### Day Index column\n",
    "\n",
    "Here an extra column is added to differentiate days between eachother.\n",
    "There exist 31 days with the current dataset and each day has 24 slots so each day will have like:\n",
    "(same applies for 96 15-min slots)\n",
    "\n",
    "Day 1: t=1 dayIndex = 1,\n",
    "       t=2 dayIndex = 1,\n",
    "       ...\n",
    "       t=24 dayIndex = 1\n",
    "...\n",
    "...\n",
    "\n",
    "Day 20: t=1 dayIndex = 20,\n",
    "        t=2 dayIndex = 20,\n",
    "        ...\n",
    "        t=24 dayIndex = 20\n",
    "...\n",
    "..."
   ]
  },
  {
   "cell_type": "code",
   "execution_count": null,
   "metadata": {},
   "outputs": [],
   "source": [
    "dataset_daily =  dataset.iloc[:,:].resample('D').sum()\n",
    "dataset_hourly['dayIndex'] = None\n",
    "dataset['dayIndex'] = None\n",
    "dayIndex = []\n",
    "dayIndex_15 = []\n",
    "for i in range(1, len(dataset_daily)+1): \n",
    "    for j in range(num_hour_timesteps):\n",
    "        dayIndex.append(i)\n",
    "    for k in range(num_timesteps):\n",
    "        dayIndex_15.append(i)\n",
    "        \n",
    "for a in range(len(dataset_hourly)):\n",
    "    dataset_hourly.iloc[a,4] = dayIndex[a]\n",
    "    \n",
    "for b in range(len(dataset)):    \n",
    "    dataset.iloc[b,4] = dayIndex_15[b]"
   ]
  },
  {
   "cell_type": "markdown",
   "metadata": {},
   "source": [
    "Given that there:\n",
    "\n",
    "* A synthetic forecast of the load\n",
    "* The parameters of the uniformly randomized error (load forecast error) \n",
    "* The day ahead market price (Assumed to have this)\n",
    "\n",
    "The point is to find an optimal way to choose a day-ahead market commitment which minimizes the expectation of the energy cost."
   ]
  },
  {
   "cell_type": "code",
   "execution_count": null,
   "metadata": {},
   "outputs": [],
   "source": [
    "# making np arrays (it is unnecessary but just makes my life easier)\n",
    "p_forecast = dataset_hourly.loc[dataset_hourly['dayIndex'] == d].SyntheticLoadForecast.values\n",
    "dam_price = dataset_hourly.loc[dataset_hourly['dayIndex'] == d].dam_price.values\n",
    "deviation = dev_table\n",
    "\n",
    "p_forecast_15 = dataset.loc[dataset['dayIndex'] == d].SyntheticLoadForecast.values\n",
    "dam_price_15 = dataset.loc[dataset['dayIndex'] == d].dam_price.values\n",
    "deviation_15 = dev_15_table\n",
    "        \n",
    "# Duration of a market dispatch time interval\n",
    "MarketTime = 1 # 1 = 1 hour, 0.25 = 15 minutes\n",
    "# Imbalance cost\n",
    "imb_cost = 0.02\n",
    "prob_s = 1/num_scenarios\n",
    "\n",
    "#creating dummy data for battery\n",
    "b_data = {'init_SOC': [0.6], # initial State of Charge\n",
    "          'capacity':  [50.0], # Battery capacity [kWh]\n",
    "          'char_P_Limit': [1.0], # Max charging power [kW]\n",
    "          'dis_P_Limit': [1.0], # Max discharging power [kW]\n",
    "          'char_P_Eff': [0.95], # charging power efficiency\n",
    "          'dis_P_Eff': [0.95], # discharging power efficiency\n",
    "          'batt_min_SOC':[0] # minimum SOC the battery should reach\n",
    "          }\n",
    "\n",
    "batteryData = pd.DataFrame (b_data, columns = ['capacity','init_SOC','char_P_Limit','dis_P_Limit', 'char_P_Eff', 'dis_P_Eff', 'batt_min_SOC'])\n",
    "\n",
    "# use battery class to store information\n",
    "batt = Battery(state_of_charge = batteryData.loc[:,'init_SOC'][0],\n",
    "           capacity = batteryData.loc[:,'capacity'][0],\n",
    "           charging_power_limit = batteryData.loc[:,'char_P_Limit'][0],\n",
    "           discharging_power_limit = batteryData.loc[:,'dis_P_Limit'][0],\n",
    "           charging_efficiency = batteryData.loc[:,'char_P_Eff'][0],\n",
    "           discharging_efficiency = batteryData.loc[:,'dis_P_Eff'][0],\n",
    "           min_SOC = batteryData.loc[:,'batt_min_SOC'][0])"
   ]
  },
  {
   "cell_type": "code",
   "execution_count": null,
   "metadata": {},
   "outputs": [],
   "source": [
    "\"\"\"\"\"\"\"\"\"\"\"\"\"\"\"\"\"\"\"\"\"\"\"\"\"\"\"\"\"\"\"\"\"\"\"\"\"\"\"\"\"\"\"\"\n",
    "\"\"\"\"\"\"\"\"\"\"\"\"\"\"\" --- Model --- \"\"\"\"\"\"\"\"\"\"\"\"\"\"\"\"\"\n",
    "\"\"\"\"\"\"\"\"\"\"\"\"\"\"\"\"\"\"\"\"\"\"\"\"\"\"\"\"\"\"\"\"\"\"\"\"\"\"\"\"\"\"\"\"\n",
    "m_hourly = ConcreteModel()\n",
    "\n",
    "\"\"\" Sets of periods \"\"\"\n",
    "m_hourly.t = RangeSet(0, len(dataset_hourly.loc[dataset_hourly['dayIndex'] == d])-1)\n",
    "m_hourly.t_restrict = RangeSet(0, len(dataset_hourly.loc[dataset_hourly['dayIndex'] == d])-2)\n",
    "m_hourly.t_beg = RangeSet(0, len(dataset_hourly.loc[dataset_hourly['dayIndex'] == d])-1, 23)\n",
    "\n",
    "\"\"\" Set of Batteries \"\"\"\n",
    "m_hourly.b = RangeSet(0, len(batteryData)-1)\n",
    "\n",
    "\"\"\" Set of deviation scenarios \"\"\"\n",
    "m_hourly.s = RangeSet(0, len(deviation.columns)-1)\n",
    "\n",
    "\n",
    "\n",
    "\"\"\"\"\"\"\"\"\"\"\"\"\"\"\"\"\"\"\"\"\"\"\"\"\"\"\"\"\"\"\"\"\"\"\"\"\"\"\"\"\"\"\"\"\"\"\"\"\n",
    "\"\"\"\"\"\"\"\"\"\"\"\"\"\"\" Variables \"\"\"\"\"\"\"\"\"\"\"\"\"\"\"\"\"\"\"\"\"\n",
    "\"\"\"\"\"\"\"\"\"\"\"\"\"\"\"\"\"\"\"\"\"\"\"\"\"\"\"\"\"\"\"\"\"\"\"\"\"\"\"\"\"\"\"\"\"\"\"\"\n",
    "\n",
    "#Here, the variables with their bounds that the model will use are defined. \n",
    "#These are what the model will try to optimize at every timestep\n",
    "\n",
    "### The committed power constraint:\n",
    "m_hourly.p_committed = Var(m_hourly.t)\n",
    "\n",
    "# boolean character: either charging or discharging \n",
    "m_hourly.bool_char = Var(m_hourly.t * m_hourly.b * m_hourly.s, within = Binary)\n",
    "\n",
    "m_hourly.powercharge = Var(m_hourly.t * m_hourly.b * m_hourly.s, bounds=(0, batt.charging_power_limit), within=NonNegativeReals)\n",
    "m_hourly.powerdischarge = Var(m_hourly.t * m_hourly.b * m_hourly.s, bounds=(0,batt.discharging_power_limit), within=NonNegativeReals)\n",
    "m_hourly.b_energy = Var(m_hourly.t * m_hourly.b * m_hourly.s, bounds=(0, batt.capacity))\n",
    "m_hourly.batterypower = Var(m_hourly.t * m_hourly.b * m_hourly.s, bounds=(-batt.discharging_power_limit,batt.discharging_power_limit))\n",
    "m_hourly.SOC = Var(m_hourly.t * m_hourly.b * m_hourly.s, bounds=(0, 1))\n",
    "\n",
    "m_hourly.p = Var(m_hourly.t * m_hourly.b * m_hourly.s, bounds=(0,99999))\n",
    "m_hourly.q = Var(m_hourly.t * m_hourly.b * m_hourly.s, bounds=(0,99999))\n"
   ]
  },
  {
   "cell_type": "code",
   "execution_count": null,
   "metadata": {},
   "outputs": [],
   "source": [
    "\"\"\"\"\"\"\"\"\"\"\"\"\"\"\"\"\"\"\"\"\"\"\"\"\"\"\"\"\"\"\"\"\"\"\"\"\"\"\"\"\"\"\"\"\"\"\"\"\n",
    "\"\"\"\"\"\"\"\"\"\"\" Day Ahead Objective Function \"\"\"\"\"\"\"\"\"\n",
    "\"\"\"\"\"\"\"\"\"\"\"\"\"\"\"\"\"\"\"\"\"\"\"\"\"\"\"\"\"\"\"\"\"\"\"\"\"\"\"\"\"\"\"\"\"\"\"\"\n",
    "def obj_dayahead_energy_cost(m):\n",
    "    return sum(sum(prob_s * sum(((dam_price[t] * (p_forecast[t] + m_hourly.batterypower[t,b,s] - dev_table.iloc[t,s])) + (imb_cost * m_hourly.p[t,b,s]) + (imb_cost * m_hourly.q[t,b,s])) * MarketTime for t in m_hourly.t) for b in m_hourly.b) for s in m_hourly.s)\n",
    "\n",
    "m_hourly.dayahead_total_energy_cost = Objective(rule=obj_dayahead_energy_cost,sense=minimize)"
   ]
  },
  {
   "cell_type": "code",
   "execution_count": null,
   "metadata": {},
   "outputs": [],
   "source": [
    "\"\"\" All battery constraint \"\"\"\n",
    "\n",
    "#battery power constraint\n",
    "def battery_power_constraint(m,t,b,s):\n",
    "    return m_hourly.batterypower[t,b,s] == (m_hourly.powercharge[t,b,s] - m_hourly.powerdischarge[t,b,s])\n",
    "# Battery energy at time t and scenario s\n",
    "def b_energy_t_constraint(m,t,b,s):\n",
    "    return m_hourly.b_energy[t,b,s] == m_hourly.SOC[t,b,s]*batt.capacity\n",
    "# boolean constraints\n",
    "def bool_control_charging(m,t,b,s):\n",
    "    return ((m_hourly.powercharge[t,b,s]) <= (batt.charging_power_limit * m_hourly.bool_char[t,b,s]))\n",
    "def bool_control_discharge(m,t,b,s):\n",
    "    return ((m_hourly.powerdischarge[t,b,s]) <= (batt.discharging_power_limit * (1 - m_hourly.bool_char[t,b,s])))\n",
    "# SOC Evolution Constraint\n",
    "def soc_evolution(m, t_r, b,s):\n",
    "    return m_hourly.b_energy[t_r+1,b,s] == m_hourly.b_energy[t_r,b,s] + (MarketTime*m_hourly.powercharge[t_r,b,s] * batt.charging_efficiency - (MarketTime*m_hourly.powerdischarge[t_r,b,s] / batt.discharging_efficiency))\n",
    "# SOC initial state value at start of every day\n",
    "def init_state_day_SOC(m,t,b,s):\n",
    "    return m_hourly.b_energy[t,b,s] == batt.state_of_charge*batt.capacity\n",
    "# minimum battery SOC constraint\n",
    "def min_bat_soc(m,t,b,s):\n",
    "    return m_hourly.b_energy[t,b,s] >= batt.min_SOC * batt.capacity\n",
    "def p_comLargerthanzero(m,t):\n",
    "    return m_hourly.p_committed[t] >= 0\n",
    "def abs_constraint(m,t,b,s):\n",
    "    return p_forecast[t] - dev_table.iloc[t,s] + m_hourly.batterypower[t,b,s] - m_hourly.p_committed[t] + m_hourly.p[t,b,s] - m_hourly.q[t,b,s] == 0\n",
    "\n",
    "\n",
    "m_hourly.init_state_day_SOC = Constraint(m_hourly.t_beg, m_hourly.b, m_hourly.s, rule=init_state_day_SOC)\n",
    "#m_hourly.min_SOC_const = Constraint(m_hourly.t, m_hourly.b, rule=min_bat_soc)\n",
    "m_hourly.p_com = Constraint(m_hourly.t, rule=p_comLargerthanzero)\n",
    "m_hourly.battery_power = Constraint(m_hourly.t, m_hourly.b, m_hourly.s, rule=battery_power_constraint)\n",
    "m_hourly.b_energy_constraint = Constraint(m_hourly.t, m_hourly.b, m_hourly.s, rule=b_energy_t_constraint)\n",
    "m_hourly.Batt_boolean_charge = Constraint(m_hourly.t, m_hourly.b, m_hourly.s, rule=bool_control_charging)\n",
    "m_hourly.Batt_boolean_discharge = Constraint(m_hourly.t, m_hourly.b, m_hourly.s, rule=bool_control_discharge)\n",
    "m_hourly.soc_evol = Constraint(m_hourly.t_restrict, m_hourly.b, m_hourly.s, rule=soc_evolution)\n",
    "m_hourly.abs_constraint = Constraint(m_hourly.t, m_hourly.b, m_hourly.s, rule = abs_constraint)"
   ]
  },
  {
   "cell_type": "code",
   "execution_count": null,
   "metadata": {},
   "outputs": [],
   "source": [
    "\"\"\"\"\"\"\"\"\"\"\"\"\"\"\" Start Timer \"\"\"\"\"\"\"\"\"\"\"\"\"\"\"\n",
    "total_start_time = time.time()\n",
    "\"\"\"\"\"\"\"\"\"\"\"\"\"\"\"\"\"\"\"\"\"\"\"\"\"\"\"\"\"\"\"\"\"\"\"\"\"\"\"\"\"\""
   ]
  },
  {
   "cell_type": "code",
   "execution_count": null,
   "metadata": {
    "scrolled": true
   },
   "outputs": [],
   "source": [
    "\"\"\"\"\"\"\"\"\"\"\"\"\"\"\"\"\"\"\"\"\"\"\"\"\"\"\"\"\"\"\"\"\"\"\"\"\"\"\"\"\"\"\"\"\"\"\"\"\n",
    "\"\"\"\"\"\"\"\"\"\"\"\"\"\"\" Solver to be used \"\"\"\"\"\"\"\"\"\"\"\"\"\"\"\n",
    "\"\"\"\"\"\"\"\"\"\"\"\"\"\"\"\"\"\"\"\"\"\"\"\"\"\"\"\"\"\"\"\"\"\"\"\"\"\"\"\"\"\"\"\"\"\"\"\"\n",
    "# set the path to the solver\n",
    "opt = SolverFactory(\"cbc\", executable=\"/Users/alaakamalcheaib/Desktop/UPC STUFF/ampl.macos64/cbc\")\n",
    "\n",
    "\"\"\"\"\"\"\"\"\"\"\"\"\"\"\"\"\"\"\"\"\"\"\"\"\"\"\"\"\"\"\"\"\"\"\"\"\"\"\"\"\"\"\n",
    "\"\"\" Solving the optimization problem: \"\"\"\n",
    "\"\"\"\"\"\"\"\"\"\"\"\"\"\"\"\"\"\"\"\"\"\"\"\"\"\"\"\"\"\"\"\"\"\"\"\"\"\"\"\"\"\"\n",
    "\n",
    "\"\"\"\"\"\"\"\"\"\"\"\"\"\"\" Start Timer \"\"\"\"\"\"\"\"\"\"\"\"\"\"\"\n",
    "hour_start_time = time.time()\n",
    "\"\"\"\"\"\"\"\"\"\"\"\"\"\"\"\"\"\"\"\"\"\"\"\"\"\"\"\"\"\"\"\"\"\"\"\"\"\"\"\"\"\"\n",
    "\n",
    "results = opt.solve(m_hourly, tee=False)\n",
    "\n",
    "\"\"\"\"\"\"\"\"\"\"\"\"\"\"\" End Timer \"\"\"\"\"\"\"\"\"\"\"\"\"\"\"\n",
    "hour_elapsed = time.time() - hour_start_time\n",
    "print ('Time elapsed', hour_elapsed)\n",
    "\"\"\"\"\"\"\"\"\"\"\"\"\"\"\"\"\"\"\"\"\"\"\"\"\"\"\"\"\"\"\"\"\"\"\"\"\"\"\"\"\"\""
   ]
  },
  {
   "cell_type": "code",
   "execution_count": null,
   "metadata": {},
   "outputs": [],
   "source": [
    "ind_DA_hour = list(m_hourly.t)\n",
    "p_committed_hour = list(m_hourly.p_committed.get_values().values())\n",
    "\n",
    "res_pyomo_DA_hour = pd.DataFrame({'timesteps': ind_DA_hour,'p_committed':p_committed_hour,})\n",
    "res_pyomo_DA_hour = res_pyomo_DA_hour.set_index(\"timesteps\")"
   ]
  },
  {
   "cell_type": "markdown",
   "metadata": {},
   "source": [
    "### Reshaping from 1D array to Matrix (24,10)"
   ]
  },
  {
   "cell_type": "code",
   "execution_count": null,
   "metadata": {
    "scrolled": true
   },
   "outputs": [],
   "source": [
    "pd.set_option('display.max_rows', None)\n",
    "SOC_hour_values = list(m_hourly.SOC.get_values().values())\n",
    "SOC_hour_values = np.array(SOC_hour_values).reshape(24,num_scenarios)"
   ]
  },
  {
   "cell_type": "markdown",
   "metadata": {},
   "source": [
    "## From Hourly values to 15-minute interval values"
   ]
  },
  {
   "cell_type": "code",
   "execution_count": null,
   "metadata": {},
   "outputs": [],
   "source": [
    "# Changing from (24,10) to (96,10)\n",
    "SOC_values = []\n",
    "for i in range(24):\n",
    "    for j in range(4):\n",
    "        SOC_values.append(SOC_hour_values[i])\n",
    "        \n",
    "SOC_values = np.array(SOC_values).reshape(96,num_scenarios)\n",
    "SOC_table = pd.DataFrame(SOC_values)\n",
    "\n",
    "\"\"\"\"\"\"\"\"\"\"\"\"\"\"\"\"\"\"\"\"\"\"\"\"\"\"\"\"\"\"\"\"\"\"\"\"\"\"\"\"\"\"\"\"\n",
    "\"\"\"\"\"\"\"\"\"\"\"\"\"\"\" -- Model - \"\"\"\"\"\"\"\"\"\"\"\"\"\"\"\"\"\n",
    "\"\"\"\"\"\"\"\"\"\"\"\"\"\"\"\"\"\"\"\"\"\"\"\"\"\"\"\"\"\"\"\"\"\"\"\"\"\"\"\"\"\"\"\"\n",
    "m = ConcreteModel()\n",
    "\n",
    "\"\"\" Sets of periods \"\"\"\n",
    "m.t = RangeSet(0, len(dataset.loc[dataset['dayIndex'] == d])-1)\n",
    "m.t24 = RangeSet(0, 23)\n",
    "m.t_restrict = RangeSet(0, len(dataset.loc[dataset['dayIndex'] == d])-2)\n",
    "m.t_beg = RangeSet(0, len(dataset.loc[dataset['dayIndex'] == d])-1, 95)\n",
    "m.t_byFour = RangeSet(0, len(dataset.loc[dataset['dayIndex'] == d])-1, 4)\n",
    "\n",
    "\"\"\" Set of Batteries \"\"\"\n",
    "m.b = RangeSet(0, len(batteryData)-1)\n",
    "\n",
    "\"\"\" Set of deviation scenarios \"\"\"\n",
    "m.s = RangeSet(0, len(deviation_15.columns)-1)\n",
    "\n",
    "\"\"\"\"\"\"\"\"\"\"\"\"\"\"\"\"\"\"\"\"\"\"\"\"\"\"\"\"\"\"\"\"\"\"\"\"\"\"\"\"\"\"\"\"\"\"\"\"\n",
    "\"\"\"\"\"\"\"\"\"\"\"\"\"\"\" Variables \"\"\"\"\"\"\"\"\"\"\"\"\"\"\"\"\"\"\"\"\"\n",
    "\"\"\"\"\"\"\"\"\"\"\"\"\"\"\"\"\"\"\"\"\"\"\"\"\"\"\"\"\"\"\"\"\"\"\"\"\"\"\"\"\"\"\"\"\"\"\"\"\n",
    "\n",
    "#Here, the variables with their bounds that the model will use are defined. \n",
    "#These are what the model will try to optimize at every timestep\n",
    "\n",
    "### The committed power constraint:\n",
    "m.p_committed = Var(m.t)\n",
    "\n",
    "# boolean character: either charging or discharging \n",
    "m.bool_char = Var(m.t * m.b * m.s, within = Binary)\n",
    "\n",
    "m.powercharge = Var(m.t * m.b * m.s, bounds=(0, batt.charging_power_limit), within=NonNegativeReals)\n",
    "m.powerdischarge = Var(m.t * m.b * m.s, bounds=(0,batt.discharging_power_limit), within=NonNegativeReals)\n",
    "m.b_energy = Var(m.t * m.b * m.s, bounds=(0, batt.capacity))\n",
    "m.batterypower = Var(m.t * m.b * m.s, bounds=(-batt.discharging_power_limit,batt.discharging_power_limit))\n",
    "m.SOC = Var(m.t * m.b * m.s, bounds=(0, 1))\n",
    "\n",
    "m.p = Var(m.t * m.b * m.s, bounds=(0,99999))\n",
    "m.q = Var(m.t * m.b * m.s, bounds=(0,99999))\n"
   ]
  },
  {
   "cell_type": "code",
   "execution_count": null,
   "metadata": {},
   "outputs": [],
   "source": [
    "\"\"\"\"\"\"\"\"\"\"\"\"\"\"\"\"\"\"\"\"\"\"\"\"\"\"\"\"\"\"\"\"\"\"\"\"\"\"\"\"\"\"\"\"\"\"\"\"\n",
    "\"\"\"\"\"\"\"\"\"\"\" Day Ahead Objective Function \"\"\"\"\"\"\"\"\"\n",
    "\"\"\"\"\"\"\"\"\"\"\"\"\"\"\"\"\"\"\"\"\"\"\"\"\"\"\"\"\"\"\"\"\"\"\"\"\"\"\"\"\"\"\"\"\"\"\"\"\n",
    "def obj_dayahead_energy_cost(m):\n",
    "    return sum(sum(prob_s * sum(((dam_price_15[t] * (p_forecast_15[t] + m.batterypower[t,b,s] - dev_15_table.iloc[t,s])) + (imb_cost * m.p[t,b,s]) + (imb_cost * m.q[t,b,s])) * MarketTime for t in m.t) for b in m.b) for s in m.s)\n",
    "\n",
    "\n",
    "m.dayahead_total_energy_cost = Objective(rule=obj_dayahead_energy_cost,sense=minimize)"
   ]
  },
  {
   "cell_type": "code",
   "execution_count": null,
   "metadata": {},
   "outputs": [],
   "source": [
    "\"\"\" All battery constraint \"\"\"\n",
    "\n",
    "#battery power constraint\n",
    "def battery_power_constraint(m,t,b,s):\n",
    "    return m.batterypower[t,b,s] == (m.powercharge[t,b,s] - m.powerdischarge[t,b,s])\n",
    "# Battery energy at time t and scenario s\n",
    "def b_energy_t_constraint(m,t,b,s):\n",
    "    return m.b_energy[t,b,s] == m.SOC[t,b,s]*batt.capacity\n",
    "# boolean constraints\n",
    "def bool_control_charging(m,t,b,s):\n",
    "    return ((m.powercharge[t,b,s]) <= (batt.charging_power_limit * m.bool_char[t,b,s]))\n",
    "def bool_control_discharge(m,t,b,s):\n",
    "    return ((m.powerdischarge[t,b,s]) <= (batt.discharging_power_limit * (1 - m.bool_char[t,b,s])))\n",
    "# SOC Evolution Constraint\n",
    "def soc_evolution(m, t_r, b,s):\n",
    "    return m.b_energy[t_r+1,b,s] == m.b_energy[t_r,b,s] + (MarketTime*m.powercharge[t_r,b,s] * batt.charging_efficiency - (MarketTime*m.powerdischarge[t_r,b,s] / batt.discharging_efficiency))\n",
    "# SOC initial state value at start of every day\n",
    "def init_state_day_SOC(m,t,b,s):\n",
    "    return m.b_energy[t,b,s] == batt.state_of_charge*batt.capacity\n",
    "# Imbalance value constraint\n",
    "#def imbalance_equation(m, t, b, s):\n",
    "    #return m.imbalance[t] == (dev_table.iloc[t,s] + m.batterypower_dev[t,b])\n",
    "# minimum battery SOC constraint\n",
    "def min_bat_soc(m,t,b,s):\n",
    "    return m.b_energy[t,b,s] >= batt.min_SOC * batt.capacity\n",
    "def p_comLargerthanzero(m,t):\n",
    "    return m.p_committed[t] >= 0\n",
    "def SOC_foreveryhour(m,t,b,s):\n",
    "    return m.SOC[t,b,s] == SOC_table.iloc[t,s]\n",
    "def abs_constraint(m,t,b,s):\n",
    "    return p_forecast_15[t] - dev_15_table.iloc[t,s] + m.batterypower[t,b,s] - m.p_committed[t] + m.p[t,b,s] - m.q[t,b,s] == 0\n",
    "\n",
    "\n",
    "m.init_state_day_SOC = Constraint(m.t_beg, m.b, m.s, rule=init_state_day_SOC)\n",
    "#m.min_SOC_const = Constraint(m.t, m.b, rule=min_bat_soc)\n",
    "m.p_com = Constraint(m.t, rule=p_comLargerthanzero)\n",
    "m.battery_power = Constraint(m.t, m.b, m.s, rule=battery_power_constraint)\n",
    "m.b_energy_constraint = Constraint(m.t, m.b, m.s, rule=b_energy_t_constraint)\n",
    "m.Batt_boolean_charge = Constraint(m.t, m.b, m.s, rule=bool_control_charging)\n",
    "m.Batt_boolean_discharge = Constraint(m.t, m.b, m.s, rule=bool_control_discharge)\n",
    "m.soc_evol = Constraint(m.t_restrict, m.b, m.s, rule=soc_evolution)\n",
    "m.soc_forEveryHour = Constraint(m.t_byFour, m.b, m.s, rule=SOC_foreveryhour)\n",
    "m.abs_constraint = Constraint(m.t, m.b, m.s, rule = abs_constraint)"
   ]
  },
  {
   "cell_type": "code",
   "execution_count": null,
   "metadata": {
    "scrolled": true
   },
   "outputs": [],
   "source": [
    "\"\"\"\"\"\"\"\"\"\"\"\"\"\"\"\"\"\"\"\"\"\"\"\"\"\"\"\"\"\"\"\"\"\"\"\"\"\"\"\"\"\"\"\"\"\"\"\"\n",
    "\"\"\"\"\"\"\"\"\"\"\"\"\"\"\" Solver to be used \"\"\"\"\"\"\"\"\"\"\"\"\"\"\"\n",
    "\"\"\"\"\"\"\"\"\"\"\"\"\"\"\"\"\"\"\"\"\"\"\"\"\"\"\"\"\"\"\"\"\"\"\"\"\"\"\"\"\"\"\"\"\"\"\"\"\n",
    "# set the path to the solver\n",
    "opt = SolverFactory(\"cbc\", executable=\"/Users/alaakamalcheaib/Desktop/UPC STUFF/ampl.macos64/cbc\")\n",
    "\n",
    "\"\"\"\"\"\"\"\"\"\"\"\"\"\"\"\"\"\"\"\"\"\"\"\"\"\"\"\"\"\"\"\"\"\"\"\"\"\"\"\"\"\"\n",
    "\"\"\" Solving the optimization problem: \"\"\"\n",
    "\"\"\"\"\"\"\"\"\"\"\"\"\"\"\"\"\"\"\"\"\"\"\"\"\"\"\"\"\"\"\"\"\"\"\"\"\"\"\"\"\"\"\n",
    "\n",
    "\"\"\"\"\"\"\"\"\"\"\"\"\"\"\" Start Timer \"\"\"\"\"\"\"\"\"\"\"\"\"\"\"\n",
    "min15_start_time = time.time()\n",
    "\"\"\"\"\"\"\"\"\"\"\"\"\"\"\"\"\"\"\"\"\"\"\"\"\"\"\"\"\"\"\"\"\"\"\"\"\"\"\"\"\"\"\n",
    "\n",
    "results = opt.solve(m, tee=True)\n",
    "\n",
    "\"\"\"\"\"\"\"\"\"\"\"\"\"\"\" End Timer \"\"\"\"\"\"\"\"\"\"\"\"\"\"\"\n",
    "min15_elapsed = time.time() - min15_start_time\n",
    "print ('Time elapsed', min15_elapsed)\n",
    "\"\"\"\"\"\"\"\"\"\"\"\"\"\"\"\"\"\"\"\"\"\"\"\"\"\"\"\"\"\"\"\"\"\"\"\"\"\"\"\"\"\""
   ]
  },
  {
   "cell_type": "code",
   "execution_count": null,
   "metadata": {},
   "outputs": [],
   "source": [
    "\"\"\"\"\"\"\"\"\"\"\"\"\"\"\" End Timer \"\"\"\"\"\"\"\"\"\"\"\"\"\"\"\n",
    "elapsed = time.time() - total_start_time\n",
    "print ('Time elapsed', elapsed)\n",
    "\"\"\"\"\"\"\"\"\"\"\"\"\"\"\"\"\"\"\"\"\"\"\"\"\"\"\"\"\"\"\"\"\"\"\"\"\"\"\"\"\"\""
   ]
  },
  {
   "cell_type": "code",
   "execution_count": null,
   "metadata": {},
   "outputs": [],
   "source": [
    "ind_DA = list(m.t)\n",
    "p_committed = list(m.p_committed.get_values().values())\n",
    "res_pyomo_DA = pd.DataFrame({'timesteps': ind_DA,'p_committed':p_committed,})\n",
    "res_pyomo_DA = res_pyomo_DA.set_index(\"timesteps\")"
   ]
  },
  {
   "cell_type": "markdown",
   "metadata": {},
   "source": [
    "### Graph of committed power vs forecasted power vs DAM prices at every time t for a single day"
   ]
  },
  {
   "cell_type": "code",
   "execution_count": null,
   "metadata": {},
   "outputs": [],
   "source": [
    "resdata = {'forenorm': dataset.loc[dataset['dayIndex'] == d].SyntheticLoadForecast,\n",
    "        'damnorm': dataset.loc[dataset['dayIndex'] == d].dam_price,\n",
    "        'comnorm': res_pyomo_DA.p_committed.values}\n",
    "\n",
    "dfres = pd.DataFrame (resdata, columns = ['forenorm','damnorm','comnorm'])\n",
    "\n",
    "#normalized\n",
    "dfnorm = theDataNormalizer(dfres)"
   ]
  },
  {
   "cell_type": "markdown",
   "metadata": {},
   "source": [
    "Committed power vs forecasted power vs DAM prices at every time t for a single day"
   ]
  },
  {
   "cell_type": "code",
   "execution_count": null,
   "metadata": {
    "scrolled": false
   },
   "outputs": [],
   "source": [
    "fig, ax1 = plt.subplots(figsize = (16,8))\n",
    "ax2 = ax1.twinx()\n",
    "lns1 = ax1.plot(res_pyomo_DA.index, dfres.iloc[:,0], \"-s\", color='#4daf4a',\n",
    "                linewidth=3, label = 'forecasted power') # forecasted power\n",
    "lns2 = ax1.plot(res_pyomo_DA.index, dfres.iloc[:,2], color ='#377eb8',\n",
    "                linewidth=3, linestyle=\"-\", label = 'committed power') # committed power\n",
    "lns3 = ax2.plot(res_pyomo_DA.index, dfres.iloc[:,1], color = '#ff7f00',\n",
    "                linewidth=3, linestyle= (0, (5, 3)), label = 'DAM prices') # DAM prices\n",
    "\n",
    "# added these three lines\n",
    "lns = lns1+lns2+lns3\n",
    "labs = [l.get_label() for l in lns]\n",
    "ax1.legend(lns, labs, loc = 9, prop={'size': 18})\n",
    "\n",
    "ax1.set_xlabel('timesteps (96)', fontsize = 20)\n",
    "ax1.set_ylabel('power (kW)', fontsize = 20)\n",
    "ax2.set_ylabel('DAM prices', fontsize = 20)\n",
    "\n",
    "#defining display layout \n",
    "plt.tight_layout()\n",
    "\n",
    "# Save figure\n",
    "#fig.savefig('Results/StrategyThree/Day-ahead/Day{0}/Norm_committed_vs_forecast_vs_DAM_Day{0}.png'.format(d), dpi=300, bbox_inches='tight')\n",
    "#fig.savefig('Results/StrategyThree/Day-ahead/Day{0}/Uniform_committed_vs_forecast_vs_DAM_Day{0}.png'.format(d), dpi=300, bbox_inches='tight')\n",
    "#fig.savefig('Results/StrategyThree/Day-ahead/Day{0}/gamma_committed_vs_forecast_vs_DAM_Day{0}.png'.format(d), dpi=300, bbox_inches='tight')\n",
    "\n",
    "# show graph\n",
    "plt.show()"
   ]
  },
  {
   "cell_type": "markdown",
   "metadata": {},
   "source": [
    "### Residuals plotting\n",
    "Residuals = forecasted power - committed power"
   ]
  },
  {
   "cell_type": "code",
   "execution_count": null,
   "metadata": {},
   "outputs": [],
   "source": [
    "fig, ax1 = plt.subplots(figsize = (16,8))\n",
    "\n",
    "ax1.plot(res_pyomo_DA.index, dfres.iloc[:,0] - dfres.iloc[:,2], \"-H\", color='black', linewidth=3, label = 'residuals') # residuals\n",
    "\n",
    "\n",
    "ax1.set_xlabel('timesteps (96)', fontsize = 20)\n",
    "ax1.set_ylabel('residuals', fontsize = 20)\n",
    "\n",
    "#defining display layout \n",
    "plt.tight_layout()\n",
    "\n",
    "# legend\n",
    "ax1.legend(loc = 0, prop={'size': 18})\n",
    "\n",
    "\n",
    "# Save figure\n",
    "#fig.savefig('Results/StrategyThree/Day-ahead/Day{0}/Norm_DAresiduals_Day{0}.png'.format(d), dpi=300, bbox_inches='tight')\n",
    "#fig.savefig('Results/StrategyThree/Day-ahead/Day{0}/Uniform_DAresiduals_Day{0}.png'.format(d), dpi=300, bbox_inches='tight')\n",
    "#fig.savefig('Results/StrategyThree/Day-ahead/Day{0}/gamma_DAresiduals_Day{0}.png'.format(d), dpi=300, bbox_inches='tight')\n",
    "\n",
    "\n",
    "# show graph\n",
    "plt.show()"
   ]
  },
  {
   "cell_type": "markdown",
   "metadata": {},
   "source": [
    "### Residuals distribution"
   ]
  },
  {
   "cell_type": "code",
   "execution_count": null,
   "metadata": {},
   "outputs": [],
   "source": [
    "fig, ax1 = plt.subplots(figsize = (16,8))\n",
    "kwargs = dict(hist_kws={'alpha':.6}, kde_kws={'linewidth':2})\n",
    "sns.distplot(dfres.iloc[:,0] - dfres.iloc[:,2], color=\"dodgerblue\", label=\"Residuals Distribution\",  **kwargs)\n",
    "plt.legend(loc = 0, prop={'size': 18});\n",
    "\n",
    "# Save figure\n",
    "#fig.savefig('Results/StrategyThree/Day-ahead/Day{0}/Norm_dist_DAresiduals_Day{0}.png'.format(d), dpi=300, bbox_inches='tight')\n",
    "#fig.savefig('Results/StrategyThree/Day-ahead/Day{0}/Uniform_dist_DAresiduals_Day{0}.png'.format(d), dpi=300, bbox_inches='tight')\n",
    "#fig.savefig('Results/StrategyThree/Day-ahead/Day{0}/gamma_dist_DAresiduals_Day{0}.png'.format(d), dpi=300, bbox_inches='tight')"
   ]
  },
  {
   "cell_type": "markdown",
   "metadata": {},
   "source": [
    "# Step Two: The next day comes\n",
    "In this stage, it's assumed that the forecast is available and the day has arrived. Here we have the \"commited power\" which is the power that has been generated in the bidding stage. There is the \"actual power\" which is the \"actual load power\" and the \"batter power\". The difference between actual and commited power is named as \"imbalance\".\n",
    "\n",
    "The point here is to optimize the schedule of the battery usage in order to minimize the expectation of the energy cost."
   ]
  },
  {
   "cell_type": "markdown",
   "metadata": {},
   "source": [
    "First the data being used for the optimization of the battery usage.\n",
    "\n",
    "First, the optimization problem will be written using **Pyomo** optimization package:\n",
    "* Creating the Model model\n",
    "* setting the indexes:\n",
    "    * model.t is the set which contains all the timesteps\n",
    "    * model.t_restrict is the set that the same m.t but it eliminates the last index\n",
    "    * model.t_beg is the set that contains values from m.t but incremented by 96 (0, 96, 192,...)\n",
    "\n",
    "Second, The variables with their bounds that the model will use are defined. These are what the model will try to optimize at every timestep\n",
    "\n",
    "Then, what is defined:\n",
    "* Objective function: minimize energy cost\n",
    "* constraints:\n",
    "    * battery_power_constraint: batterypower = powercharge - powerdischarge\n",
    "    * imbalance_equation: imbalance = p_actualLoad + batterypower - p_commited\n",
    "    * b_energy_t_constraint: battery energy at every time t (0 <= battery energy <= battery capacity)\n",
    "    * bool_control_charging and bool_control_discharging: these constraints tell the battery that it can only charge OR discharge during one time period\n",
    "    * soc_evolution: calculates the battery energy at the next timestep t where t_retsrict is being used\n",
    "    * init_state_day_SOC: initial state of charge at start of every day (which is 60%) where t_beg is being used"
   ]
  },
  {
   "cell_type": "code",
   "execution_count": null,
   "metadata": {},
   "outputs": [],
   "source": [
    "p_actualLoad = dataset.loc[dataset['dayIndex'] == d].load_kW.values\n",
    "p_commit = res_pyomo_DA.iloc[:,0]\n",
    "dam_price = dataset.loc[dataset['dayIndex'] == d].dam_price.values\n",
    "\n",
    "\"\"\"\"\"\"\"\"\"\"\"\"\"\"\"\"\"\"\"\"\"\"\"\"\"\"\"\"\"\"\"\"\"\"\"\"\"\"\"\"\"\"\"\"\n",
    "\"\"\"\"\"\"\"\"\"\"\"\"\"\"\" --- Model --- \"\"\"\"\"\"\"\"\"\"\"\"\"\"\"\"\"\n",
    "\"\"\"\"\"\"\"\"\"\"\"\"\"\"\"\"\"\"\"\"\"\"\"\"\"\"\"\"\"\"\"\"\"\"\"\"\"\"\"\"\"\"\"\"\n",
    "model = ConcreteModel()\n",
    "\n",
    "\"\"\" Sets of periods \"\"\"\n",
    "model.t = RangeSet(0, len(dataset.loc[dataset['dayIndex'] == d])-1)\n",
    "model.t_restrict = RangeSet(0, len(dataset.loc[dataset['dayIndex'] == d])-2)\n",
    "model.t_beg = RangeSet(0, len(dataset.loc[dataset['dayIndex'] == d])-1, 95)\n",
    "\n",
    "\"\"\" Set of Batteries \"\"\"\n",
    "model.b = RangeSet(0,len(batteryData)-1)\n",
    "\n",
    "\n",
    "\"\"\"\"\"\"\"\"\"\"\"\"\"\"\"\"\"\"\"\"\"\"\"\"\"\"\"\"\"\"\"\"\"\"\"\"\"\"\"\"\"\"\"\"\"\"\"\"\n",
    "\"\"\"\"\"\"\"\"\"\"\"\"\"\"\" Variables \"\"\"\"\"\"\"\"\"\"\"\"\"\"\"\"\"\"\"\"\"\n",
    "\"\"\"\"\"\"\"\"\"\"\"\"\"\"\"\"\"\"\"\"\"\"\"\"\"\"\"\"\"\"\"\"\"\"\"\"\"\"\"\"\"\"\"\"\"\"\"\"\n",
    "\n",
    "#Here, the variables with their bounds that the model will use are defined. These are what the model will try to optimize at every timestep\n",
    "\n",
    "# Amount of electricity (dis)charged of battery at time t  (kW)\n",
    "model.powercharge = Var(model.t * model.b, bounds=(0, batt.charging_power_limit), within=NonNegativeReals)\n",
    "model.powerdischarge = Var(model.t * model.b, bounds=(0,batt.discharging_power_limit), within=NonNegativeReals)\n",
    "model.batterypower = Var(model.t * model.b, bounds=(-batt.discharging_power_limit,batt.discharging_power_limit))\n",
    "\n",
    "# Energy stored in battery at time t [kWh]\n",
    "model.b_energy = Var(model.t * model.b, bounds=(0, batt.capacity))\n",
    "model.SOC = Var(model.t * model.b, bounds=(0, 1))\n",
    "\n",
    "# boolean character: either charging or discharging \n",
    "model.bool_char = Var(model.t * model.b, within = Binary)\n",
    "\n",
    "model.imbalance = Var(model.t)\n",
    "\n",
    "model.p = Var(model.t * model.b, bounds=(0,99999))\n",
    "model.q = Var(model.t * model.b, bounds=(0,99999))\n",
    "\n",
    "\"\"\"\"\"\"\"\"\"\"\"\"\"\"\"\"\"\"\"\"\"\"\"\"\"\"\"\"\"\"\"\"\"\"\"\"\"\"\"\"\"\"\"\"\"\"\"\"\n",
    "\"\"\"\"\"\"\"\"\"\"\"\"\"\"\" Objective Function \"\"\"\"\"\"\"\"\"\"\"\"\"\"\"\n",
    "\"\"\"\"\"\"\"\"\"\"\"\"\"\"\"\"\"\"\"\"\"\"\"\"\"\"\"\"\"\"\"\"\"\"\"\"\"\"\"\"\"\"\"\"\"\"\"\"\n",
    "def obj_energy_cost(m):\n",
    "    return sum(sum(((dam_price[t] * p_actualLoad[t]) + (dam_price[t] * (model.batterypower[t,b])) + (imb_cost * model.p[t,b]) + (imb_cost * model.q[t,b]))*MarketTime for t in m.t) for b in m.b)  \n",
    "\n",
    "model.total_energy_cost = Objective(rule=obj_energy_cost,sense=minimize)\n",
    "\n",
    "\"\"\"\"\"\"\"\"\"\"\"\"\"\"\"\"\"\"\"\"\"\"\"\"\"\"\"\"\"\"\"\"\"\"\"\"\"\"\"\"\"\"\"\"\"\"\"\"\n",
    "\"\"\"\"\"\"\"\"\"\"\"\"\"\"\" Constraints \"\"\"\"\"\"\"\"\"\"\"\"\"\"\"\"\"\"\"\"\"\n",
    "\"\"\"\"\"\"\"\"\"\"\"\"\"\"\"\"\"\"\"\"\"\"\"\"\"\"\"\"\"\"\"\"\"\"\"\"\"\"\"\"\"\"\"\"\"\"\"\"\n",
    "#battery power constraint\n",
    "def battery_power_constraint(m,t,b):\n",
    "    return model.batterypower[t,b] == (model.powercharge[t,b] - model.powerdischarge[t,b])\n",
    "#Absolute value constraint\n",
    "def imbalance_equation(m, t ,b):\n",
    "    return model.imbalance[t] == (p_actualLoad[t] - p_commit[t] + model.batterypower[t,b])\n",
    "# Battery energy at time t\n",
    "def b_energy_t_constraint(m,t,b):\n",
    "    return model.b_energy[t,b] == model.SOC[t,b]*batt.capacity\n",
    "# boolean constraints\n",
    "def bool_control_charging(m,t,b):\n",
    "    return ((model.powercharge[t,b]) <= (batt.charging_power_limit * model.bool_char[t,b]))\n",
    "def bool_control_discharge(m,t,b):\n",
    "    return ((model.powerdischarge[t,b]) <= (batt.discharging_power_limit * (1 - model.bool_char[t,b])))\n",
    "# SOC Evolution Constraint\n",
    "def soc_evolution(m, t_r, b):\n",
    "    return model.b_energy[t_r+1,b] == model.b_energy[t_r,b] + (MarketTime*model.powercharge[t_r,b] * batt.charging_efficiency - (MarketTime*model.powerdischarge[t_r,b] / batt.discharging_efficiency))\n",
    "# SOC initial state value at start of every day\n",
    "def init_state_day_SOC(m,t,b):\n",
    "    return model.b_energy[t, b] == batt.state_of_charge*batt.capacity\n",
    "# minimum battery SOC constraint\n",
    "def min_bat_soc(m, t, b):\n",
    "    return model.b_energy[t, b] >= batt.min_SOC * batt.capacity\n",
    "# Absolute function constraint\n",
    "def absolute_constraint(model,t,b):\n",
    "    return model.imbalance[t] + model.p[t,b] - model.q[t,b] == 0\n",
    "\n",
    "model.battery_power = Constraint(model.t,model.b,rule=battery_power_constraint)\n",
    "model.b_energy_constraint = Constraint(model.t,model.b,rule=b_energy_t_constraint)\n",
    "model.imb_eq = Constraint(model.t,model.b,rule=imbalance_equation)\n",
    "model.Batt_boolean_charge = Constraint(model.t, model.b, rule=bool_control_charging)\n",
    "model.Batt_boolean_discharge = Constraint(model.t, model.b, rule=bool_control_discharge)\n",
    "model.soc_evol = Constraint(model.t_restrict, model.b, rule=soc_evolution)\n",
    "model.init_state_day_SOC = Constraint(model.t_beg, model.b, rule=init_state_day_SOC)\n",
    "model.min_SOC_const = Constraint(model.t, model.b, rule=min_bat_soc)\n",
    "model.abs_eq = Constraint(model.t, model.b, rule = absolute_constraint)"
   ]
  },
  {
   "cell_type": "code",
   "execution_count": null,
   "metadata": {
    "scrolled": true
   },
   "outputs": [],
   "source": [
    "\"\"\"\"\"\"\"\"\"\"\"\"\"\"\"\"\"\"\"\"\"\"\"\"\"\"\"\"\"\"\"\"\"\"\"\"\"\"\"\"\"\"\"\"\"\"\"\"\n",
    "\"\"\"\"\"\"\"\"\"\"\"\"\"\"\" Solver to be used \"\"\"\"\"\"\"\"\"\"\"\"\"\"\"\n",
    "\"\"\"\"\"\"\"\"\"\"\"\"\"\"\"\"\"\"\"\"\"\"\"\"\"\"\"\"\"\"\"\"\"\"\"\"\"\"\"\"\"\"\"\"\"\"\"\"\n",
    "# set the path to the solver\n",
    "#opt = SolverFactory(\"couenne\", executable=\"/Users/alaakamalcheaib/Desktop/UPC STUFF/ampl.macos64/couenne\")\n",
    "opt = SolverFactory(\"cbc\", executable=\"/Users/alaakamalcheaib/Desktop/UPC STUFF/ampl.macos64/cbc\")\n",
    "\n",
    "\"\"\"\"\"\"\"\"\"\"\"\"\"\"\"\"\"\"\"\"\"\"\"\"\"\"\"\"\"\"\"\"\"\"\"\"\"\"\"\"\"\"\n",
    "\"\"\" Solving the optimization problem: \"\"\"\n",
    "\"\"\"\"\"\"\"\"\"\"\"\"\"\"\"\"\"\"\"\"\"\"\"\"\"\"\"\"\"\"\"\"\"\"\"\"\"\"\"\"\"\"\n",
    "\n",
    "\"\"\"\"\"\"\"\"\"\"\"\"\"\"\" Start Timer \"\"\"\"\"\"\"\"\"\"\"\"\"\"\"\n",
    "total_start_time = time.time()\n",
    "\"\"\"\"\"\"\"\"\"\"\"\"\"\"\"\"\"\"\"\"\"\"\"\"\"\"\"\"\"\"\"\"\"\"\"\"\"\"\"\"\"\"\n",
    "\n",
    "results = opt.solve(model, tee=False)\n",
    "\n",
    "\"\"\"\"\"\"\"\"\"\"\"\"\"\"\" End Timer \"\"\"\"\"\"\"\"\"\"\"\"\"\"\"\n",
    "elapsed = time.time() - total_start_time\n",
    "print ('Time elapsed', elapsed)\n",
    "\"\"\"\"\"\"\"\"\"\"\"\"\"\"\"\"\"\"\"\"\"\"\"\"\"\"\"\"\"\"\"\"\"\"\"\"\"\"\"\"\"\""
   ]
  },
  {
   "cell_type": "code",
   "execution_count": null,
   "metadata": {},
   "outputs": [],
   "source": []
  },
  {
   "cell_type": "code",
   "execution_count": null,
   "metadata": {
    "scrolled": false
   },
   "outputs": [],
   "source": [
    "ind_RT = list(model.t)\n",
    "powerc_RT = list(model.powercharge.get_values().values())\n",
    "powerd_RT = list(model.powerdischarge.get_values().values())\n",
    "bpow_RT = list(model.batterypower.get_values().values())\n",
    "bsoc_RT = list(model.SOC.get_values().values())\n",
    "imb_RT = list(model.imbalance.get_values().values())\n",
    "bEn_RT = list(model.b_energy.get_values().values())\n",
    "\n",
    "res_pyomo_RT = pd.DataFrame(\n",
    "    {'timesteps': ind_RT,\n",
    "     'power_charge': powerc_RT,\n",
    "     'power_discharge': powerd_RT,\n",
    "     'battery_power': bpow_RT,\n",
    "     'battery_SOC': bsoc_RT,\n",
    "     'imbalance': imb_RT,\n",
    "     'battery_energy': bEn_RT})\n",
    "\n",
    "res_pyomo_RT = res_pyomo_RT.set_index(\"timesteps\")"
   ]
  },
  {
   "cell_type": "code",
   "execution_count": null,
   "metadata": {},
   "outputs": [],
   "source": [
    "#normalized\n",
    "dfres_RT = pd.DataFrame(\n",
    "    {'forenorm': dataset.loc[dataset['dayIndex'] == d].SyntheticLoadForecast,\n",
    "     'damnorm': dataset.loc[dataset['dayIndex'] == d].dam_price,\n",
    "     'comnorm': res_pyomo_DA.p_committed.values,\n",
    "     'loadnorm': dataset.loc[dataset['dayIndex'] == d].load_kW,\n",
    "     'batSOCnorm': bsoc_RT\n",
    "    })\n",
    "dfnorm_RT = theDataNormalizer(dfres_RT)"
   ]
  },
  {
   "cell_type": "markdown",
   "metadata": {},
   "source": [
    "Committed vs Actual load power vs battery SOC at every time t for a single day"
   ]
  },
  {
   "cell_type": "code",
   "execution_count": null,
   "metadata": {},
   "outputs": [],
   "source": [
    "fig, ax1 = plt.subplots(figsize = (16,8))\n",
    "ax2 = ax1.twinx()\n",
    "\n",
    "lns1 = ax1.plot(dfres_RT.index, dfres_RT.iloc[:,2], \"-\", color= '#377eb8',\n",
    "                linewidth=3, label = 'committed power')\n",
    "lns2 = ax1.plot(dfres_RT.index, dfres_RT.iloc[:,3], \"-s\", color= '#e41a1c',\n",
    "                linewidth=3, label = 'actual load power')\n",
    "lns3 = ax2.plot(dfres_RT.index, dfres_RT.iloc[:,4], color= '#a65628',\n",
    "                linewidth=3, linestyle= (0, (5, 3)), label = 'battery SOC')\n",
    "\n",
    "\n",
    "# added these three lines\n",
    "lns = lns1+lns2+lns3\n",
    "labs = [l.get_label() for l in lns]\n",
    "ax1.legend(lns, labs, loc = 9, prop={'size': 18})\n",
    "\n",
    "ax1.set_xlabel('timesteps (96)', fontsize=20)\n",
    "ax1.set_ylabel('power (kW)', fontsize=20)\n",
    "ax2.set_ylabel('Battery SOC', fontsize=20)\n",
    "\n",
    "#defining display layout \n",
    "plt.tight_layout()\n",
    "# Save figure\n",
    "#fig.savefig('Results/StrategyThree/Battery-operation/Day{0}/Norm_forecast__committed_realLoad_BatterySOC_Day{0}.png'.format(d), dpi=300, bbox_inches='tight')\n",
    "#fig.savefig('Results/StrategyThree/Battery-operation/Day{0}/Uniform_forecast__committed_realLoad_BatterySOC_Day{0}.png'.format(d), dpi=300, bbox_inches='tight')\n",
    "#fig.savefig('Results/StrategyThree/Battery-operation/Day{0}/gamma_forecast__committed_realLoad_BatterySOC_Day{0}.png'.format(d), dpi=300, bbox_inches='tight')\n",
    "\n",
    "# show graph\n",
    "plt.show()"
   ]
  },
  {
   "cell_type": "markdown",
   "metadata": {},
   "source": []
  },
  {
   "cell_type": "code",
   "execution_count": null,
   "metadata": {},
   "outputs": [],
   "source": [
    "fig, ax1 = plt.subplots(figsize = (16,8))\n",
    "ax1.plot(res_pyomo_DA.index, dfres_RT.iloc[:,2] - dfres_RT.iloc[:,3], \"-H\", color='black', linewidth=3, label = 'residuals') # residuals\n",
    "\n",
    "ax1.legend(loc = 0, prop={'size': 18})\n",
    "\n",
    "ax1.set_xlabel('timesteps (96)', fontsize = 20)\n",
    "ax1.set_ylabel('residuals', fontsize = 20)\n",
    "\n",
    "#defining display layout \n",
    "plt.tight_layout()\n",
    "\n",
    "# Save figure\n",
    "#fig.savefig('Results/StrategyThree/Battery-operation/Day{0}/Norm_RTresiduals_Day{0}.png'.format(d), dpi=300, bbox_inches='tight')\n",
    "#fig.savefig('Results/StrategyThree/Battery-operation/Day{0}/Uniform_RTresiduals_Day{0}.png'.format(d), dpi=300, bbox_inches='tight')\n",
    "#fig.savefig('Results/StrategyThree/Battery-operation/Day{0}/gamma_RTresiduals_Day{0}.png'.format(d), dpi=300, bbox_inches='tight')\n",
    "\n",
    "\n",
    "# show graph\n",
    "plt.show()"
   ]
  },
  {
   "cell_type": "markdown",
   "metadata": {},
   "source": []
  },
  {
   "cell_type": "code",
   "execution_count": null,
   "metadata": {},
   "outputs": [],
   "source": [
    "fig, ax1 = plt.subplots(figsize = (16,8))\n",
    "kwargs = dict(hist_kws={'alpha':.6}, kde_kws={'linewidth':2})\n",
    "sns.distplot(dfres_RT.iloc[:,3] - dfres_RT.iloc[:,2], color=\"dodgerblue\", label=\"Residuals Distribution\",  **kwargs)\n",
    "plt.legend(loc = 0, prop={'size': 18});\n",
    "\n",
    "# Save figure\n",
    "#fig.savefig('Results/StrategyThree/Battery-operation/Day{0}/Norm_dist_RTresiduals_Day{0}.png'.format(d), dpi=300, bbox_inches='tight')\n",
    "#fig.savefig('Results/StrategyThree/Battery-operation/Day{0}/Uniform_dist_RTresiduals_Day{0}.png'.format(d), dpi=300, bbox_inches='tight')\n",
    "#fig.savefig('Results/StrategyThree/Battery-operation/Day{0}/gamma_dist_RTresiduals_Day{0}.png'.format(d), dpi=300, bbox_inches='tight')"
   ]
  },
  {
   "cell_type": "code",
   "execution_count": null,
   "metadata": {},
   "outputs": [],
   "source": [
    "# saving the results in a csv file\n",
    "result_BatOpt_RT = np.asarray(res_pyomo_RT)\n",
    "#np.savetxt('Results/StrategyThree/Battery-operation/Day{0}/power_committed_Day{0}.csv'.format(d), result_BatOpt_RT, delimiter=',')"
   ]
  },
  {
   "cell_type": "code",
   "execution_count": null,
   "metadata": {
    "scrolled": false
   },
   "outputs": [],
   "source": [
    "pd.set_option('display.max_rows', False)\n",
    "res_pyomo_RT"
   ]
  },
  {
   "cell_type": "code",
   "execution_count": null,
   "metadata": {},
   "outputs": [],
   "source": [
    "imbalance_cost = res_pyomo_RT.iloc[:,4] * imb_cost\n",
    "\n",
    "dam_price = dataset.loc[dataset['dayIndex'] == d].dam_price\n",
    "bidding_cost = []\n",
    "\n",
    "for t in range(len(dataset.loc[dataset['dayIndex'] == d])):\n",
    "    result = res_pyomo_DA.iloc[t,0] * dam_price.iloc[t]\n",
    "    bidding_cost.append(result)"
   ]
  },
  {
   "cell_type": "code",
   "execution_count": null,
   "metadata": {
    "scrolled": false
   },
   "outputs": [],
   "source": [
    "fig, ax1 = plt.subplots(figsize = (16,8))\n",
    "ax2 = ax1.twinx()\n",
    "\n",
    "lns1 = ax1.plot(dfres_RT.index, bidding_cost, \"-\", color= '#984ea3',linewidth=3, label = \"bidding cost\")\n",
    "lns2 = ax2.plot(dfres_RT.index, imbalance_cost, \"-s\", color= '#f781bf',linewidth=3, label = \"imbalance cost\")\n",
    "\n",
    "# added these three lines\n",
    "lns = lns1+lns2\n",
    "labs = [l.get_label() for l in lns]\n",
    "ax1.legend(lns, labs, loc = 3, prop={'size': 18})\n",
    "\n",
    "ax1.set_xlabel('timesteps (96)', fontsize=18)\n",
    "ax1.set_ylabel('bidding costs', fontsize=18)\n",
    "ax2.set_ylabel('Imbalances', fontsize=18)\n",
    "\n",
    "#defining display layout \n",
    "plt.tight_layout()\n",
    "\n",
    "# Save figure\n",
    "#fig.savefig('Results/StrategyThree/Battery-operation/Day{0}/Norm_bidding_vs_imbalance_cost_Day{0}.png'.format(d), dpi=300, bbox_inches='tight')\n",
    "#fig.savefig('Results/StrategyThree/Battery-operation/Day{0}/Uniform_bidding_vs_imbalance_cost_Day{0}.png'.format(d), dpi=300, bbox_inches='tight')\n",
    "#fig.savefig('Results/StrategyThree/Battery-operation/Day{0}/gamma_bidding_vs_imbalance_cost_Day{0}.png'.format(d), dpi=300, bbox_inches='tight')\n",
    "\n",
    "# show graph\n",
    "plt.show()"
   ]
  },
  {
   "cell_type": "markdown",
   "metadata": {},
   "source": [
    "bidding vs imbalance cost at every time t for a single day"
   ]
  },
  {
   "cell_type": "code",
   "execution_count": null,
   "metadata": {},
   "outputs": [],
   "source": [
    "# Strategy Three\n",
    "total_bidding_cost = 0\n",
    "total_imbalance_cost = 0\n",
    "total_overall_cost = 0\n",
    "\n",
    "for t in range(len(dataset.loc[dataset['dayIndex'] == d])):\n",
    "    total_bidding_cost += bidding_cost[t]\n",
    "    total_imbalance_cost += abs(imbalance_cost[t])\n",
    "    total_overall_cost += dam_price.iloc[t] * (p_commit[t] + res_pyomo_RT.iloc[t,4]) + abs(imbalance_cost[t])\n",
    "\n",
    "\n",
    "    \n",
    "total_overall_cost,total_bidding_cost,total_imbalance_cost"
   ]
  },
  {
   "cell_type": "markdown",
   "metadata": {},
   "source": [
    "## Horizontal Bar Chart:\n",
    "To compare the bidding cost, imbalance cost and total overall cost from each strategy"
   ]
  },
  {
   "cell_type": "code",
   "execution_count": null,
   "metadata": {},
   "outputs": [],
   "source": [
    "# Day = 21\n",
    "# [strat 1, strat 2, strat 3 ,forecast with battery, forecast no battery] at 50 scenarios\n",
    "strats = ['Strat One', 'Strat Two', 'Strat Three','Forecast w/ battery', 'Forecast No Battery']\n",
    "bars = ['Total_cost', 'Total_bid', 'total_imbalance']\n",
    "colors = ['#1D2F6F', '#8390FA', '#6EAF46']\n",
    "\n",
    "\n",
    "Totals_21_norm = [np.array([2.3055989, 2.498514, 2.560604, 2.80784513, 3.3268939]), # total overall cost values\n",
    "                  np.array([2.5412306, 2.647839, 2.651744, 2.851028, 2.851028]), # total bidding cost values\n",
    "                  np.array([0.186632, 0.070222, 0.071818, 0.10188026, 0.527922])] # total imbalance cost\n",
    "\n",
    "\n",
    "Totals_21_Uniform = [np.array([2.424508, 2.4912798, 2.5824272, 2.83151218, 3.66768515]), # total overall cost values\n",
    "                     np.array([2.331638, 2.45280979, 2.6240203, 2.5904109, 2.5904109]), # total bidding cost values\n",
    "                     np.array([0.154517, 0.0598999, 0.047524, 0.180988, 0.86871359])] # total imbalance cost\n",
    "\n",
    "\n",
    "Totals_norm_average = [np.array([3.458147, 3.60681, 3.609142, 3.80027, 4.197532]), # total overall cost values\n",
    "                       np.array([3.379708, 3.69294, 3.623535, 3.70302, 3.796169]), # total bidding cost values\n",
    "                       np.array([0.132346, 0.05816, 0.082800, 0.09989, 0.522459])] # total imbalance cost\n",
    "\n",
    "Totals_Uniform_average = [np.array([3.562276, 3.66779, 3.689741, 3.884071, 4.197532]), # total overall cost values\n",
    "                          np.array([3.695029, 4.00769, 3.991186, 3.766234, 3.796169]), # total bidding cost values\n",
    "                          np.array([0.206854, 0.19675, 0.150393, 0.150413, 0.522459])] # total imbalance cost\n",
    "\n",
    "Totals_gamma_average = [np.array([3.036598, 3.3989, 3.2612, 3.693, 4.10726]), # total overall cost values\n",
    "                          np.array([3.15119, 3.9041, 3.4366, 5.0081, 5.0081]), # total bidding cost values\n",
    "                          np.array([0.11383, 0.2025, 0.0832, 0.6368, 0.6651])] # total imbalance cost"
   ]
  },
  {
   "cell_type": "markdown",
   "metadata": {},
   "source": [
    "###### Guassian - Day 21"
   ]
  },
  {
   "cell_type": "code",
   "execution_count": null,
   "metadata": {
    "scrolled": false
   },
   "outputs": [],
   "source": [
    "fig, ax = plt.subplots(1, figsize = (16, 8))\n",
    "\n",
    "plt.barh(strats, Totals_21_norm[0], color = colors[0])\n",
    "plt.barh(strats, Totals_21_norm[1], left = Totals_21_norm[0], color = colors[1])\n",
    "plt.barh(strats, Totals_21_norm[2], left = Totals_21_norm[0]+Totals_21_norm[1], color = colors[2])\n",
    "plt.xlabel('values', fontsize=20)\n",
    "plt.ylabel('Strategies', fontsize=20)\n",
    "plt.legend(bars, prop={'size': 20})\n",
    "\n",
    "#plt.title('Total cost vs bidding cost vs imbalance cost across different strategies', fontsize=22)\n",
    "#fig.savefig('Results/totals_normal_Day{0}.png'.format(d), dpi=300, bbox_inches='tight')\n",
    "\n",
    "plt.show()\n"
   ]
  },
  {
   "cell_type": "markdown",
   "metadata": {},
   "source": [
    "###### Uniform - Day 21"
   ]
  },
  {
   "cell_type": "code",
   "execution_count": null,
   "metadata": {},
   "outputs": [],
   "source": [
    "fig, ax = plt.subplots(1, figsize = (16, 8))\n",
    "\n",
    "ax.barh(strats, Totals_21_Uniform[0], color = colors[0])\n",
    "ax.barh(strats, Totals_21_Uniform[1], left = Totals_21_Uniform[0], color = colors[1])\n",
    "ax.barh(strats, Totals_21_Uniform[2], left = Totals_21_Uniform[0]+Totals_21_Uniform[1], color = colors[2])\n",
    "plt.xlabel('values')\n",
    "plt.ylabel('Strategies')\n",
    "plt.legend(bars, prop={'size': 20})\n",
    "#plt.title('Total cost vs bidding cost vs imbalance cost across different strategies')\n",
    "\n",
    "#fig.savefig('Results/totals_Uniform_Day{0}.png'.format(d), dpi=300, bbox_inches='tight')\n",
    "\n",
    "plt.show()"
   ]
  },
  {
   "cell_type": "markdown",
   "metadata": {},
   "source": [
    "##### Gaussian - average "
   ]
  },
  {
   "cell_type": "code",
   "execution_count": null,
   "metadata": {},
   "outputs": [],
   "source": [
    "fig, ax = plt.subplots(1, figsize = (16, 8))\n",
    "\n",
    "plt.barh(strats, Totals_norm_average[0], color = colors[0])\n",
    "plt.barh(strats, Totals_norm_average[1], left = Totals_norm_average[0], color = colors[1])\n",
    "plt.barh(strats, Totals_norm_average[2], left = Totals_norm_average[0]+Totals_norm_average[1], color = colors[2])\n",
    "plt.xlabel('values', fontsize=20)\n",
    "plt.ylabel('Strategies', fontsize=20)\n",
    "plt.legend(bars, prop={'size': 20})\n",
    "\n",
    "#plt.title('Total cost vs bidding cost vs imbalance cost across different strategies', fontsize=22)\n",
    "#fig.savefig('Results/totals_normal_average.png', dpi=300, bbox_inches='tight')\n",
    "\n",
    "plt.show()"
   ]
  },
  {
   "cell_type": "markdown",
   "metadata": {},
   "source": [
    "##### Uniform - average"
   ]
  },
  {
   "cell_type": "code",
   "execution_count": null,
   "metadata": {},
   "outputs": [],
   "source": [
    "fig, ax = plt.subplots(1, figsize = (16, 8))\n",
    "\n",
    "plt.barh(strats, Totals_Uniform_average[0], color = colors[0])\n",
    "plt.barh(strats, Totals_Uniform_average[1], left = Totals_Uniform_average[0], color = colors[1])\n",
    "plt.barh(strats, Totals_Uniform_average[2], left = Totals_Uniform_average[0]+Totals_Uniform_average[1], color = colors[2])\n",
    "plt.xlabel('values', fontsize=20)\n",
    "plt.ylabel('Strategies', fontsize=20)\n",
    "plt.legend(bars, prop={'size': 20})\n",
    "\n",
    "#plt.title('Total cost vs bidding cost vs imbalance cost across different strategies', fontsize=22)\n",
    "#fig.savefig('Results/totals_Uniform_average.png', dpi=300, bbox_inches='tight')\n",
    "\n",
    "plt.show()"
   ]
  },
  {
   "cell_type": "markdown",
   "metadata": {},
   "source": [
    "##### gamma - average"
   ]
  },
  {
   "cell_type": "code",
   "execution_count": null,
   "metadata": {},
   "outputs": [],
   "source": [
    "fig, ax = plt.subplots(1, figsize = (16, 8))\n",
    "\n",
    "plt.barh(strats, Totals_gamma_average[0], color = colors[0])\n",
    "plt.barh(strats, Totals_gamma_average[1], left = Totals_gamma_average[0], color = colors[1])\n",
    "plt.barh(strats, Totals_gamma_average[2], left = Totals_gamma_average[0]+Totals_gamma_average[1], color = colors[2])\n",
    "plt.xlabel('values', fontsize=20)\n",
    "plt.ylabel('Strategies', fontsize=20)\n",
    "plt.legend(bars, prop={'size': 20})\n",
    "\n",
    "#plt.title('Total cost vs bidding cost vs imbalance cost across different strategies', fontsize=22)\n",
    "#fig.savefig('Results/totals_gamma_average.png', dpi=300, bbox_inches='tight')\n",
    "\n",
    "plt.show()"
   ]
  },
  {
   "cell_type": "markdown",
   "metadata": {},
   "source": [
    "### Step One"
   ]
  },
  {
   "cell_type": "code",
   "execution_count": null,
   "metadata": {},
   "outputs": [],
   "source": [
    "# Step One\n",
    "fig = plt.figure(figsize=(12,6))\n",
    "obj_strat_1 = [4.282,4.291,4.328,4.318,5.236]\n",
    "obj_strat_2 = [4.363,4.406,4.416,4.409,4.4207]\n",
    "obj_strat_3 = [4.744,4.76,4.8,4.796,4.910]\n",
    "\n",
    "scenarios = ['10', '50' ,'100', '200', '500']\n",
    "\n",
    "# plot lines\n",
    "plt.plot(scenarios, obj_strat_1,  \"-o\", label = \"Strategy 1\")\n",
    "plt.plot(scenarios, obj_strat_2,  \"-o\", label = \"Strategy 2\")\n",
    "plt.plot(scenarios, obj_strat_3,  \"-o\", label = \"Strategy 3\")\n",
    "plt.xlabel(\"Number of Scenarios\")\n",
    "plt.ylabel(\"Objective function\")\n",
    "plt.legend()\n",
    "\n",
    "#fig.savefig('Results/DA_numScenarios_vs_ObjFunc_Day{0}.png'.format(d), dpi=300, bbox_inches='tight')\n",
    "#plt.show()"
   ]
  },
  {
   "cell_type": "code",
   "execution_count": null,
   "metadata": {},
   "outputs": [],
   "source": [
    "fig = plt.figure(figsize=(12,6))\n",
    "time_strat_1 = [1.96,25.32,122.95,665.01,4373.12]\n",
    "time_strat_2 = [0.99,5.63,14.18,60.53,339.91]\n",
    "time_strat_3 = [5.47,24.46,65.21,352.76,3628.61]\n",
    "\n",
    "scenarios = ['10', '50' ,'100', '200', '500']\n",
    "\n",
    "# plot lines\n",
    "plt.plot(scenarios, time_strat_1,  \"-o\", label = \"Strategy 1\")\n",
    "plt.plot(scenarios, time_strat_2,  \"-o\", label = \"Strategy 2\")\n",
    "plt.plot(scenarios, time_strat_3,  \"-o\", label = \"Strategy 3\")\n",
    "plt.xlabel(\"Number of Scenarios\")\n",
    "plt.ylabel(\"Computation time\")\n",
    "plt.legend()\n",
    "\n",
    "#fig.savefig('Results/DA_numScenarios_vs_CompTime_Day{0}.png'.format(d), dpi=300, bbox_inches='tight')\n",
    "#plt.show()"
   ]
  },
  {
   "cell_type": "markdown",
   "metadata": {},
   "source": [
    "### Step Two:"
   ]
  },
  {
   "cell_type": "code",
   "execution_count": null,
   "metadata": {},
   "outputs": [],
   "source": [
    "# Step Two\n",
    "fig = plt.figure(figsize=(12,6))\n",
    "obj_strat_1 = [4.0811341,4.04548,4.05868,4.05714, 4.24227]\n",
    "obj_strat_2 = [4.161426,4.15616,4.16552,4.1663922, 4.16538]\n",
    "obj_strat_3 = [4.18505,4.1715,4.181405,4.17924, 4.198]\n",
    "\n",
    "scenarios = ['10', '50' ,'100', '200', '500']\n",
    "\n",
    "# plot lines\n",
    "plt.plot(scenarios, obj_strat_1,  \"-o\", label = \"Strategy 1\")\n",
    "plt.plot(scenarios, obj_strat_2,  \"-o\", label = \"Strategy 2\")\n",
    "plt.plot(scenarios, obj_strat_3,  \"-o\", label = \"Strategy 3\")\n",
    "plt.xlabel(\"Number of Scenarios\")\n",
    "plt.ylabel(\"Objective function\")\n",
    "plt.legend()\n",
    "\n",
    "#fig.savefig('Results/RT_numScenarios_vs_ObjFunc_Day{0}.png'.format(d), dpi=300, bbox_inches='tight')\n",
    "#plt.show()"
   ]
  },
  {
   "cell_type": "code",
   "execution_count": null,
   "metadata": {},
   "outputs": [],
   "source": [
    "fig = plt.figure(figsize=(12,6))\n",
    "time_strat_1 = [0.19218,0.17785,0.18417096,0.1882, 0.20803]\n",
    "time_strat_2 = [0.139769,0.145486,0.1317,0.1364, 0.1482]\n",
    "time_strat_3 = [0.192702,0.21532,0.2008,0.1934, 0.1989]\n",
    "\n",
    "scenarios = ['10', '50' ,'100', '200', '500']\n",
    "\n",
    "# plot lines\n",
    "plt.plot(scenarios, time_strat_1,  \"-o\", label = \"Strategy 1\")\n",
    "plt.plot(scenarios, time_strat_2,  \"-o\", label = \"Strategy 2\")\n",
    "plt.plot(scenarios, time_strat_3,  \"-o\", label = \"Strategy 3\")\n",
    "plt.xlabel(\"Number of Scenarios\")\n",
    "plt.ylabel(\"Computation time\")\n",
    "plt.legend()\n",
    "\n",
    "#fig.savefig('Results/RT_numScenarios_vs_CompTime_Day{0}.png'.format(d), dpi=300, bbox_inches='tight')\n",
    "#plt.show()"
   ]
  },
  {
   "cell_type": "code",
   "execution_count": null,
   "metadata": {},
   "outputs": [],
   "source": []
  },
  {
   "cell_type": "code",
   "execution_count": null,
   "metadata": {},
   "outputs": [],
   "source": []
  }
 ],
 "metadata": {
  "kernelspec": {
   "display_name": "Python 3",
   "language": "python",
   "name": "python3"
  },
  "language_info": {
   "codemirror_mode": {
    "name": "ipython",
    "version": 3
   },
   "file_extension": ".py",
   "mimetype": "text/x-python",
   "name": "python",
   "nbconvert_exporter": "python",
   "pygments_lexer": "ipython3",
   "version": "3.7.6"
  }
 },
 "nbformat": 4,
 "nbformat_minor": 4
}
