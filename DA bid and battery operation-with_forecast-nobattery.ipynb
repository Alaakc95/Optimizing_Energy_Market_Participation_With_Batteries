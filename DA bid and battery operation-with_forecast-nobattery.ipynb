{
 "cells": [
  {
   "cell_type": "markdown",
   "metadata": {},
   "source": [
    "### Strategy where the Day-ahead bid commitment is just the forecast"
   ]
  },
  {
   "cell_type": "code",
   "execution_count": null,
   "metadata": {},
   "outputs": [],
   "source": [
    "\"\"\" Loading packages \"\"\"\n",
    "import pandas as pd\n",
    "import numpy as np\n",
    "from datetime import datetime\n",
    "import sklearn as skl\n",
    "import matplotlib.pyplot as plt\n",
    "from matplotlib.pyplot import figure\n",
    "from datetime import datetime\n",
    "from sklearn.metrics import mean_squared_error\n",
    "from sklearn.preprocessing import MinMaxScaler\n",
    "import seaborn as sns\n",
    "from matplotlib.pyplot import figure\n",
    "import scipy.stats as ss\n",
    "\n",
    "%matplotlib inline\n",
    "sns.set_style('whitegrid')\n",
    "\n",
    "import math\n",
    "import random\n",
    "import pyomo.opt\n",
    "from pyomo.core import Var\n",
    "from pyomo.environ  import *\n",
    "\n",
    "import time\n",
    "\n",
    "\"\"\" Loading Battery Class \"\"\"\n",
    "from battery import Battery"
   ]
  },
  {
   "cell_type": "markdown",
   "metadata": {},
   "source": [
    "## Data Preparation\n",
    "Here:\n",
    "* We read the data\n",
    "* Fix the date to have a **Date format** which is DD/MM/YY HH:MM\n",
    "* Check if there are missing values and fill them up (incase)\n",
    "* Set 'timesteps' or 'Datetime' to be the index"
   ]
  },
  {
   "cell_type": "code",
   "execution_count": null,
   "metadata": {},
   "outputs": [],
   "source": [
    "\"\"\" Read the data \"\"\"\n",
    "\n",
    "df = pd.read_csv(\"load_and_dam_data.csv\")\n",
    "df.columns = ['Datetime', 'load_kW', 'dam_price']\n",
    "df['Datetime'] = [datetime.strptime(x, '%d/%m/%y %H:%M') for x in df['Datetime']]\n",
    "pd.set_option('display.max_rows', None)\n",
    "\n",
    "# filling data using the median function\n",
    "def fillmissingvalues(data):\n",
    "    median = data.median()\n",
    "    data.fillna(median, inplace = True)\n",
    "    \n",
    "    return data\n",
    "df = fillmissingvalues(df)\n",
    "#setting the datetime as an index\n",
    "dataset = df\n",
    "dataset = df.set_index(\"Datetime\")\n",
    "dataset.index = pd.to_datetime(dataset.index)\n",
    "print(dataset.info())"
   ]
  },
  {
   "cell_type": "markdown",
   "metadata": {},
   "source": [
    "### Series of functions incase they're needed to be used:\n",
    "* A function that resamples the data\n",
    "* A function that normalizes the data"
   ]
  },
  {
   "cell_type": "code",
   "execution_count": null,
   "metadata": {},
   "outputs": [],
   "source": [
    "\"\"\" Function to resample the data \"\"\"\n",
    "\n",
    "def reSampleByValue(data, dateValue = 'H'):\n",
    "    if (dateValue == 'D') or (dateValue == 'W') or (dateValue == 'M') or (dateValue == 'Y'):\n",
    "    # Date Related like D: Daily, M: Monthly, Y: Yearly\n",
    "        resampled_data = data.iloc[:,:].resample(dateValue).sum()\n",
    "        \n",
    "    elif (dateValue == 'H') or (dateValue == '15Min'):\n",
    "    # Time Related like hourly and by 15 minutes\n",
    "        if (dateValue == 'H'):\n",
    "            # every hour\n",
    "            by_hour = data.iloc[:,:].resample('H').sum()\n",
    "            resampled_data = by_hour.groupby(by_hour.index).sum()\n",
    "        elif (dateValue == '15Min'):\n",
    "            #every 15 minutes\n",
    "            resampled_data = data.iloc[:,:]\n",
    "        \n",
    "    else:\n",
    "            resampled_data = 'Sorry, the values you can use are: D, W, M, Y, H and 15Min'\n",
    "    \n",
    "    # returns the data the way you chose to represent it (by hour, day, week, etc...)\n",
    "    return resampled_data\n",
    "\n",
    "\n",
    "dataset_day = reSampleByValue(dataset, dateValue = 'D')\n",
    "dataset_hour = reSampleByValue(dataset, dateValue = 'H')\n",
    "\n",
    "\n",
    "\"\"\" normalizing the data \"\"\"\n",
    "\n",
    "def theDataNormalizer(data):\n",
    "    scaler = MinMaxScaler(feature_range = (0, 1))\n",
    "    data_scaled = scaler.fit_transform(data)\n",
    "    \n",
    "    return data_scaled\n",
    "\n",
    "#test\n",
    "data_norm = theDataNormalizer(dataset.iloc[:,:])"
   ]
  },
  {
   "cell_type": "markdown",
   "metadata": {},
   "source": [
    "Which day is going to be plotted and analysed? "
   ]
  },
  {
   "cell_type": "code",
   "execution_count": null,
   "metadata": {},
   "outputs": [],
   "source": [
    "d=21 #day number"
   ]
  },
  {
   "cell_type": "markdown",
   "metadata": {},
   "source": [
    "# Step One: Day ahead bid commitment:\n",
    "* First line creates a series of random error uniformly destributed between -1 and 1 (kW) and it's uncorrelated with time U(-1, 1)\n",
    "* Second line is the Synthetic Day-ahead forcast where the random error (U(-1, 1)) is added to the load of the next day"
   ]
  },
  {
   "cell_type": "code",
   "execution_count": null,
   "metadata": {},
   "outputs": [],
   "source": [
    "#random uniform error between -1 and 1\n",
    "#dataset['randError'] = ss.uniform.rvs(size=2977, loc = -1, scale = 2, random_state = 1995)\n",
    "#random Normal error between -1 and 1\n",
    "#dataset['randError'] = ss.norm.rvs(size=2977, loc = 0, scale = 1/3, random_state = 1995)\n",
    "# random gamma error between -1 and 1\n",
    "dataset['randError'] = ss.gamma.rvs(a = 2, size=2977, loc = 0, scale=0.17, random_state= 1995)\n",
    "\n",
    "# Synthetic Day-ahead Forecast \n",
    "dataset['SyntheticLoadForecast'] = dataset['load_kW'] + dataset['randError']"
   ]
  },
  {
   "cell_type": "markdown",
   "metadata": {},
   "source": [
    "### Day Index column\n",
    "\n",
    "Here an extra column is added to differentiate days between eachother.\n",
    "There exist 31 days with the current dataset and each day has 96 slots so each day will have like:\n",
    "\n",
    "Day 1: t=1 dayIndex = 1,\n",
    "       t=2 dayIndex = 1,\n",
    "       ...\n",
    "       t=96 dayIndex = 1\n",
    "...\n",
    "...\n",
    "\n",
    "Day 20: t=1 dayIndex = 20,\n",
    "        t=2 dayIndex = 20,\n",
    "        ...\n",
    "        t=96 dayIndex = 20\n",
    "...\n",
    "..."
   ]
  },
  {
   "cell_type": "code",
   "execution_count": null,
   "metadata": {},
   "outputs": [],
   "source": [
    "dataset_day = reSampleByValue(dataset, dateValue = 'D')\n",
    "dataset['dayIndex'] = None\n",
    "dayIndex = []\n",
    "for i in range(1, len(dataset_day)+1): \n",
    "    for j in range(96):\n",
    "        dayIndex.append(i)\n",
    "        \n",
    "for a in range(len(dataset)):\n",
    "    dataset.iloc[a,4] = dayIndex[a]"
   ]
  },
  {
   "cell_type": "code",
   "execution_count": null,
   "metadata": {},
   "outputs": [],
   "source": [
    "# making np arrays (it is unnecessary but just makes my life easier)\n",
    "p_forecast = dataset.loc[dataset['dayIndex'] == d].SyntheticLoadForecast.values\n",
    "dam_price = dataset.loc[dataset['dayIndex'] == d].dam_price.values\n",
    "\n",
    "#p_commit = []\n",
    "#for i in range(96):\n",
    "#    if dataset.loc[dataset['dayIndex'] == d].SyntheticLoadForecast.values[i]<0:\n",
    "#        p_commit.append(0)\n",
    "#    else:\n",
    "#        p_commit.append(dataset.loc[dataset['dayIndex'] == d].SyntheticLoadForecast.values[i])\n",
    "\n",
    "\n",
    "#deviation = dev_table\n",
    "        \n",
    "# Duration of a market dispatch time interval\n",
    "MarketTime = 1 # 1 = 1 hour, 0.25 = 15 minutes\n",
    "# Imbalance cost\n",
    "imb_cost = 0.02"
   ]
  },
  {
   "cell_type": "markdown",
   "metadata": {},
   "source": [
    "### Graph of committed power at every time t for a single day\n",
    "where the committed power is assumed to be the forecasted power."
   ]
  },
  {
   "cell_type": "markdown",
   "metadata": {},
   "source": [
    "# Step Two: The next day comes"
   ]
  },
  {
   "cell_type": "markdown",
   "metadata": {},
   "source": [
    "We will see what the objective function will look like when there is no battery."
   ]
  },
  {
   "cell_type": "code",
   "execution_count": null,
   "metadata": {},
   "outputs": [],
   "source": [
    "p_actualLoad = dataset.loc[dataset['dayIndex'] == d].load_kW.values\n",
    "p_commit = dataset.loc[dataset['dayIndex'] == d].SyntheticLoadForecast.values\n",
    "dam_price = dataset.loc[dataset['dayIndex'] == d].dam_price.values\n",
    "\n",
    "\n",
    "\"\"\"\"\"\"\"\"\"\"\"\"\"\"\"\"\"\"\"\"\"\"\"\"\"\"\"\"\"\"\"\"\"\"\"\"\"\"\"\"\"\"\"\"\"\"\"\"\n",
    "\"\"\"\"\"\"\"\"\"\"\"\"\"\"\" Objective Function \"\"\"\"\"\"\"\"\"\"\"\"\"\"\"\n",
    "\"\"\"\"\"\"\"\"\"\"\"\"\"\"\"\"\"\"\"\"\"\"\"\"\"\"\"\"\"\"\"\"\"\"\"\"\"\"\"\"\"\"\"\"\"\"\"\"\n",
    "objfun = 0\n",
    "for t in range(96):\n",
    "    objfun += ((dam_price[t] * p_actualLoad[t]) + (imb_cost * abs((p_actualLoad[t] - p_commit[t]))))*MarketTime    "
   ]
  },
  {
   "cell_type": "code",
   "execution_count": null,
   "metadata": {},
   "outputs": [],
   "source": [
    "objfun"
   ]
  },
  {
   "cell_type": "code",
   "execution_count": null,
   "metadata": {},
   "outputs": [],
   "source": [
    "fig, ax1 = plt.subplots(figsize = (16,8))\n",
    "ax1.plot(dataset.loc[dataset['dayIndex'] == d].index, p_actualLoad - p_commit , \"-H\", color='black', linewidth=3, label = 'residuals') # residuals\n",
    "\n",
    "ax1.legend(loc = 0, prop={'size': 18})\n",
    "\n",
    "ax1.set_xlabel('timesteps (96)', fontsize = 20)\n",
    "ax1.set_ylabel('residuals', fontsize = 20)\n",
    "\n",
    "#defining display layout \n",
    "plt.tight_layout()\n",
    "\n",
    "# Save figure\n",
    "#fig.savefig('Results/StrategyWithNoForecast/Battery-operation/Day{0}/Norm_RTresiduals_Day{0}.png'.format(d), dpi=300, bbox_inches='tight')\n",
    "#fig.savefig('Results/StrategyWithNoForecast/Battery-operation/Day{0}/Uniform_RTresiduals_Day{0}.png'.format(d), dpi=300, bbox_inches='tight')\n",
    "#fig.savefig('Results/StrategyWithNoForecast/Battery-operation/Day{0}/gamma_RTresiduals_Day{0}.png'.format(d), dpi=300, bbox_inches='tight')\n",
    "\n",
    "# show graph\n",
    "plt.show()"
   ]
  },
  {
   "cell_type": "markdown",
   "metadata": {},
   "source": []
  },
  {
   "cell_type": "code",
   "execution_count": null,
   "metadata": {},
   "outputs": [],
   "source": [
    "fig, ax1 = plt.subplots(figsize = (16,8))\n",
    "kwargs = dict(hist_kws={'alpha':.6}, kde_kws={'linewidth':2})\n",
    "sns.distplot(p_actualLoad - p_commit, color=\"dodgerblue\", label=\"Residuals Distribution\",  **kwargs)\n",
    "plt.legend(loc = 0, prop={'size': 18});\n",
    "\n",
    "# Save figure\n",
    "#fig.savefig('Results/StrategyWithNoForecast/Battery-operation/Day{0}/Norm_dist_RTresiduals_Day{0}.png'.format(d), dpi=300, bbox_inches='tight')\n",
    "#fig.savefig('Results/StrategyWithNoForecast/Battery-operation/Day{0}/Uniform_dist_RTresiduals_Day{0}.png'.format(d), dpi=300, bbox_inches='tight')\n",
    "#fig.savefig('Results/StrategyWithNoForecast/Battery-operation/Day{0}/gamma_dist_RTresiduals_Day{0}.png'.format(d), dpi=300, bbox_inches='tight')"
   ]
  },
  {
   "cell_type": "code",
   "execution_count": null,
   "metadata": {},
   "outputs": [],
   "source": [
    "imbalance_cost = []\n",
    "bidding_cost = []\n",
    "for t in range(len(dataset.loc[dataset['dayIndex'] == d])):\n",
    "    imb_res = imb_cost *(p_actualLoad[t] - p_commit[t])\n",
    "    bid_res = p_commit[t] * dam_price[t]\n",
    "    imbalance_cost.append(imb_res)\n",
    "    bidding_cost.append(bid_res)"
   ]
  },
  {
   "cell_type": "code",
   "execution_count": null,
   "metadata": {
    "scrolled": false
   },
   "outputs": [],
   "source": [
    "fig, ax1 = plt.subplots(figsize = (16,8))\n",
    "ax2 = ax1.twinx()\n",
    "\n",
    "lns1 = ax1.plot(dataset.loc[dataset['dayIndex'] == d].index, bidding_cost, \"-\", color= '#984ea3',linewidth=3, label = \"bidding cost\")\n",
    "lns2 = ax2.plot(dataset.loc[dataset['dayIndex'] == d].index, imbalance_cost, \"-s\", color= '#f781bf',linewidth=3, label = \"imbalance cost\")\n",
    "\n",
    "# added these three lines\n",
    "lns = lns1+lns2\n",
    "labs = [l.get_label() for l in lns]\n",
    "ax1.legend(lns, labs, loc = 3, prop={'size': 18})\n",
    "\n",
    "ax1.set_xlabel('timesteps (96)', fontsize=18)\n",
    "ax1.set_ylabel('bidding costs', fontsize=18)\n",
    "ax2.set_ylabel('Imbalances', fontsize=18)\n",
    "\n",
    "#defining display layout \n",
    "plt.tight_layout()\n",
    "\n",
    "# Save figure\n",
    "#fig.savefig('Results/StrategyWithNoForecast/Battery-operation/Day{0}/Uniform_bidding_vs_imbalance_cost_Day{0}.png'.format(d), dpi=300, bbox_inches='tight')\n",
    "#fig.savefig('Results/StrategyWithNoForecast/Battery-operation/Day{0}/Norm_bidding_vs_imbalance_cost_Day{0}.png'.format(d), dpi=300, bbox_inches='tight')\n",
    "#fig.savefig('Results/StrategyWithNoForecast/Battery-operation/Day{0}/gamma_bidding_vs_imbalance_cost_Day{0}.png'.format(d), dpi=300, bbox_inches='tight')\n",
    "\n",
    "\n",
    "# show graph\n",
    "plt.show()"
   ]
  },
  {
   "cell_type": "markdown",
   "metadata": {},
   "source": [
    "bidding vs imbalance cost at every time t for a single day"
   ]
  },
  {
   "cell_type": "code",
   "execution_count": null,
   "metadata": {},
   "outputs": [],
   "source": [
    "# forecast no battery\n",
    "total_bidding_cost = 0\n",
    "total_imbalance_cost = 0\n",
    "total_overall_cost = objfun\n",
    "\n",
    "for t in range(len(dataset.loc[dataset['dayIndex'] == d])):\n",
    "    total_bidding_cost += bidding_cost[t]\n",
    "    total_imbalance_cost += abs(imbalance_cost[t])\n",
    "    \n",
    "total_overall_cost,total_bidding_cost,total_imbalance_cost\n"
   ]
  },
  {
   "cell_type": "code",
   "execution_count": null,
   "metadata": {},
   "outputs": [],
   "source": []
  }
 ],
 "metadata": {
  "kernelspec": {
   "display_name": "Python 3",
   "language": "python",
   "name": "python3"
  },
  "language_info": {
   "codemirror_mode": {
    "name": "ipython",
    "version": 3
   },
   "file_extension": ".py",
   "mimetype": "text/x-python",
   "name": "python",
   "nbconvert_exporter": "python",
   "pygments_lexer": "ipython3",
   "version": "3.7.6"
  }
 },
 "nbformat": 4,
 "nbformat_minor": 4
}
